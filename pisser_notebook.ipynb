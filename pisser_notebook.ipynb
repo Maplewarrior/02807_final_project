{
 "cells": [
  {
   "cell_type": "code",
   "execution_count": 1,
   "metadata": {},
   "outputs": [],
   "source": [
    "from models.builers.retriever import Retriever\n",
    "from data.phisherman import LoadPhishingDataset"
   ]
  },
  {
   "cell_type": "code",
   "execution_count": 2,
   "metadata": {},
   "outputs": [
    {
     "name": "stdout",
     "output_type": "stream",
     "text": [
      "Wops, missing value in a document.\n",
      "Wops, missing value in a document.\n",
      "Wops, missing value in a document.\n",
      "Wops, missing value in a document.\n",
      "Wops, missing value in a document.\n",
      "Wops, missing value in a document.\n",
      "Wops, missing value in a document.\n",
      "Wops, missing value in a document.\n",
      "Wops, missing value in a document.\n",
      "Wops, missing value in a document.\n",
      "Wops, missing value in a document.\n",
      "Wops, missing value in a document.\n",
      "Wops, missing value in a document.\n",
      "Wops, missing value in a document.\n",
      "Wops, missing value in a document.\n",
      "Wops, missing value in a document.\n"
     ]
    }
   ],
   "source": [
    "# Load dataset\n",
    "dataset = LoadPhishingDataset()"
   ]
  },
  {
   "cell_type": "code",
   "execution_count": 3,
   "metadata": {},
   "outputs": [
    {
     "data": {
      "text/plain": [
       "0"
      ]
     },
     "execution_count": 3,
     "metadata": {},
     "output_type": "execute_result"
    }
   ],
   "source": [
    "dataset[0].Id"
   ]
  },
  {
   "cell_type": "code",
   "execution_count": 4,
   "metadata": {},
   "outputs": [
    {
     "name": "stdout",
     "output_type": "stream",
     "text": [
      "Creating TF-IDF model\n",
      "GetCorpusVocabulary Elapsed: 2.714747190475464s\n",
      "GetInverseDocumentFrequencies Elapsed: 3.9169862270355225s\n",
      "GetDocumentsTFIDFVectors Elapsed: 29.84080934524536s\n",
      "Saving model 'TF-IDF' at: models/pickled_models/Phisher/TF-IDF.pickle\n",
      "Creating BM25 model\n",
      "GetCorpusVocabulary Elapsed: 2.577827215194702s\n",
      "GetInverseDocumentFrequencies Elapsed: 3.854222059249878s\n",
      "GetDocumentLengths Elapsed: 1.1163949966430664s\n",
      "GetDocumentBM25Vectors Elapsed: 31.508741855621338s\n",
      "Saving model 'BM25' at: models/pickled_models/Phisher/BM25.pickle\n"
     ]
    },
    {
     "data": {
      "text/plain": [
       "{'TF-IDF': <models.TFIDF.TFIDF at 0x10b7de620>,\n",
       " 'BM25': <models.BM25.BM25 at 0x10b7ddea0>}"
      ]
     },
     "execution_count": 4,
     "metadata": {},
     "output_type": "execute_result"
    }
   ],
   "source": [
    "from models.model_loader_helpers import create_models\n",
    "\n",
    "models_to_create = {\"TF-IDF\": {},\n",
    "                    \"BM25\": {}}\n",
    "\n",
    "create_models(documents=dataset, dataset_name=\"Phisher\", models=models_to_create, save=True)"
   ]
  },
  {
   "cell_type": "code",
   "execution_count": 9,
   "metadata": {},
   "outputs": [
    {
     "data": {
      "text/plain": [
       "('re : 6 . 1100 , disc : uniformitarianism , re : 1086 ; sex / lang dick hudson \\'s observations on us use of \\'s on \\' but not \\'d aughter \\' as a vocative are very thought-provoking , but i am not sure that it is fair to attribute this to \" sons \" being \" treated like senior relatives \" . for one thing , we do n\\'t normally use \\' brother \\' in this way any more than we do \\'d aughter \\' , and it is hard to imagine a natural class comprising senior relatives and \\'s on \\' but excluding \\' brother \\' . for another , there seem to me to be differences here . if i am not imagining a distinction that is not there , it seems to me that the senior relative terms are used in a wider variety of contexts , e . g . , calling out from a distance to get someone \\'s attention , and hence at the beginning of an utterance , whereas \\'s on \\' seems more natural in utterances like \\' yes , son \\' , \\' hand me that , son \\' than in ones like \\' son ! \\' or \\' son , help me ! \\' ( although perhaps these latter ones are not completely impossible ) . alexis mr',\n",
       " 11321)"
      ]
     },
     "execution_count": 9,
     "metadata": {},
     "output_type": "execute_result"
    }
   ],
   "source": [
    "from data.query import Query\n",
    "\n",
    "queries = []\n",
    "\n",
    "for rel in dataset:\n",
    "    id = rel.Id\n",
    "    queries.append(Query(text=rel.text, id=id, relevant_document_ids=dataset.getRelatedDocuments(rel)))\n",
    "\n",
    "# output an example\n",
    "queries[0].GetQuery(), queries[0].GetNumberOfRelevantDocuments()"
   ]
  },
  {
   "cell_type": "code",
   "execution_count": null,
   "metadata": {},
   "outputs": [],
   "source": [
    "def retrieveQueryAndGetScore(model: Retriever, query: Query, k: int):\n",
    "    retrieved_documents = model.Lookup(query=query.GetQuery(), k=k)\n",
    "    relevancies = []\n",
    "    for document in retrieved_documents:\n",
    "        if query.IsDocumentRelevant(document):\n",
    "            relevancies.append(True)\n",
    "        else:\n",
    "            relevancies.append(False)\n",
    "    return relevancies"
   ]
  }
 ],
 "metadata": {
  "kernelspec": {
   "display_name": "venv",
   "language": "python",
   "name": "python3"
  },
  "language_info": {
   "codemirror_mode": {
    "name": "ipython",
    "version": 3
   },
   "file_extension": ".py",
   "mimetype": "text/x-python",
   "name": "python",
   "nbconvert_exporter": "python",
   "pygments_lexer": "ipython3",
   "version": "3.10.9"
  }
 },
 "nbformat": 4,
 "nbformat_minor": 2
}
