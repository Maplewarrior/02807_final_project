{
 "cells": [
  {
   "cell_type": "markdown",
   "metadata": {},
   "source": [
    "## 0 Imports and Device"
   ]
  },
  {
   "cell_type": "markdown",
   "metadata": {},
   "source": [
    "Here we import all necessary helper functions and classes.\n",
    "We also define the device to run the models on (GPU or CPU)."
   ]
  },
  {
   "cell_type": "code",
   "execution_count": 1,
   "metadata": {},
   "outputs": [
    {
     "name": "stderr",
     "output_type": "stream",
     "text": [
      "/Users/andreasbigom/Documents/dtu/computational_tools/02807_final_project/venv/lib/python3.11/site-packages/tqdm/auto.py:21: TqdmWarning: IProgress not found. Please update jupyter and ipywidgets. See https://ipywidgets.readthedocs.io/en/stable/user_install.html\n",
      "  from .autonotebook import tqdm as notebook_tqdm\n"
     ]
    }
   ],
   "source": [
    "import os\n",
    "import torch\n",
    "from models.DPR import DPR\n",
    "import configparser\n",
    "from utils.data_utils import getCorpus, getQueries\n",
    "from data.dataloader import DataLoader\n",
    "from models.model_loader_helpers import createModels, loadModels\n",
    "from utils.metrics_uitls import timeFunction, calculateMetrics\n",
    "from utils.lookup_utils import retrieveQueryAndGetRelevancies\n",
    "from utils.latex_utils import createLatexTable\n",
    "device = ('cuda' if torch.cuda.is_available() else 'cpu')"
   ]
  },
  {
   "cell_type": "markdown",
   "metadata": {},
   "source": [
    "## 1 Prepare Experiments"
   ]
  },
  {
   "cell_type": "markdown",
   "metadata": {},
   "source": [
    "### 1.1 Define Experiment Configuration "
   ]
  },
  {
   "cell_type": "markdown",
   "metadata": {},
   "source": [
    "Here we define the configuration of the experiment.\n",
    "Both the datasets to perform the experiment on and the model configurations.\n",
    "\n",
    "Change the load_saved_models variable to True, to load locally saved models, instead of creating them during the experiment."
   ]
  },
  {
   "cell_type": "code",
   "execution_count": 2,
   "metadata": {},
   "outputs": [],
   "source": [
    "config = configparser.ConfigParser()\n",
    "config.read('configs/config.ini')\n",
    "datasets = list(config['DATASETS'])\n",
    "data_loader = DataLoader(config)\n",
    "\n",
    "model_descriptions = {\"TF-IDF\": {},\n",
    "        \"BM25\": {},\n",
    "        \"DPR\": {},\n",
    "        \"Crossencoder\": {\"n\":25},\n",
    "        \"KMeans\": {\"k\":4},\n",
    "        \"CURE\": {\"k\": 2, \"n\": 2, \"shrinkage_fraction\":0.2}}\n",
    "\n",
    "load_saved_models = False\n",
    "\n",
    "embedding_model_name = \"bert-base-uncased\"\n",
    "embedding_index_folder_path = \"indexes\""
   ]
  },
  {
   "cell_type": "markdown",
   "metadata": {},
   "source": [
    "### 1.2 Define Function to Pre-compute Embeddings"
   ]
  },
  {
   "cell_type": "markdown",
   "metadata": {},
   "source": [
    "This function helps us reduce a lot of computations, by pre computing the embeddings offline and loading them online, instead of computing them multiple times (one time for each model that relies on embeddings)."
   ]
  },
  {
   "cell_type": "code",
   "execution_count": 3,
   "metadata": {},
   "outputs": [],
   "source": [
    "def preComputeEmbeddings(dataset: str, \n",
    "                         documents: list[dict], \n",
    "                         embedding_model_name: str, \n",
    "                         embedding_index_folder_path: str):\n",
    "    embedder = DPR(documents, model_name=embedding_model_name)\n",
    "    embedding_index_path = getPreComputedEmbeddingsPath(dataset, embedding_index_folder_path)\n",
    "    embedder.SaveIndex(embedding_index_path)\n",
    "    return embedding_index_path\n",
    "\n",
    "def getPreComputedEmbeddingsPath(dataset: str, embedding_index_folder_path: str):\n",
    "    return os.path.join(embedding_index_folder_path,dataset,\"embedding_index.pickle\")"
   ]
  },
  {
   "cell_type": "markdown",
   "metadata": {},
   "source": [
    "## 2 Run Experiemnt"
   ]
  },
  {
   "cell_type": "markdown",
   "metadata": {},
   "source": [
    "Here we define the experiment itself.\n",
    "We itterate over all datasets and perform retrieval for each query for each model.\n",
    "We then return the score metrics, which are the mean precision, recall, reciprocal rank and time for each model."
   ]
  },
  {
   "cell_type": "code",
   "execution_count": 4,
   "metadata": {},
   "outputs": [],
   "source": [
    "def runExperiment(data_loader: DataLoader, \n",
    "                  datasets: list[str], \n",
    "                  model_descriptions: dict[str, dict],\n",
    "                  embedding_model_name: str,\n",
    "                  embedding_index_folder_path: str):\n",
    "    score_metrics: dict[str, dict[str, dict[str, float]]] = {}\n",
    "    for dataset in datasets:\n",
    "        score_metrics[dataset] = {}\n",
    "        documents, relevant_doc_ids_for_all_queries = getCorpus(data_loader, dataset)\n",
    "        queries = getQueries(data_loader, relevant_doc_ids_for_all_queries)\n",
    "        if load_saved_models:\n",
    "            models = loadModels(dataset, model_descriptions)\n",
    "        else:\n",
    "            embedding_index_path = preComputeEmbeddings(dataset, \n",
    "                                documents,\n",
    "                                embedding_model_name,\n",
    "                                embedding_index_folder_path)\n",
    "            models = createModels(documents=documents, \n",
    "                                   dataset_name=dataset, \n",
    "                                   models=model_descriptions, \n",
    "                                   embedding_index_path=embedding_index_path,\n",
    "                                   save=True)\n",
    "        for model_name, model in models.items():\n",
    "            results = []\n",
    "            times = []\n",
    "            score_metrics[dataset][model_name] = {}\n",
    "            for query in queries:\n",
    "                time, relevancies = timeFunction(retrieveQueryAndGetRelevancies, \n",
    "                                                 **{\"model\": model, \n",
    "                                                    \"query\": query, \n",
    "                                                    \"k\": query.getNumberOfRelevantDocuments()})\n",
    "                results.append(relevancies)\n",
    "                times.append(time)\n",
    "            precision, recall, reciprocal_rank = calculateMetrics(results, queries)\n",
    "            score_metrics[dataset][model_name][\"precision\"] = precision\n",
    "            score_metrics[dataset][model_name][\"recall\"] = recall\n",
    "            score_metrics[dataset][model_name][\"reciprocal_rank\"] = reciprocal_rank\n",
    "            score_metrics[dataset][model_name][\"time\"] = sum(times)/len(times)\n",
    "    return score_metrics"
   ]
  },
  {
   "cell_type": "markdown",
   "metadata": {},
   "source": [
    "Here we perform the acutal experiment."
   ]
  },
  {
   "cell_type": "code",
   "execution_count": 5,
   "metadata": {},
   "outputs": [
    {
     "name": "stdout",
     "output_type": "stream",
     "text": [
      "\n",
      "Loading dataset from data/datasets/fiqa\n",
      "data/datasets/fiqa/corpus.jsonl\n",
      "Creating TF-IDF model\n",
      "GetCorpusVocabulary Elapsed: 0.00016617774963378906s\n",
      "GetInverseDocumentFrequencies Elapsed: 0.00043487548828125s\n",
      "GetDocumentsTFIDFVectors Elapsed: 0.001661062240600586s\n",
      "Saving model 'TF-IDF' at: models/pickled_models/fiqa/TF-IDF.pickle\n",
      "Creating BM25 model\n",
      "GetCorpusVocabulary Elapsed: 0.00015473365783691406s\n",
      "GetInverseDocumentFrequencies Elapsed: 0.0004189014434814453s\n",
      "GetDocumentLengths Elapsed: 7.915496826171875e-05s\n",
      "GetDocumentBM25Vectors Elapsed: 0.0016987323760986328s\n",
      "Saving model 'BM25' at: models/pickled_models/fiqa/BM25.pickle\n",
      "Creating DPR model\n",
      "Saving model 'DPR' at: models/pickled_models/fiqa/DPR.pickle\n",
      "Crossencoder model\n",
      "Saving model 'Crossencoder' at: models/pickled_models/fiqa/Crossencoder_n25.pickle\n",
      "KMeans model\n",
      "Saving model 'KMeans' at: models/pickled_models/fiqa/KMeans_k4.pickle\n",
      "CURE model\n",
      "Saving model 'CURE' at: models/pickled_models/fiqa/CURE_k2_n2_shrinkage_fraction0.2.pickle\n",
      "QueryToVector Elapsed: 0.0004761219024658203s\n",
      "CalculateScores Elapsed: 0.0009992122650146484s\n",
      "QueryToVector Elapsed: 8.7738037109375e-05s\n",
      "CalculateScores Elapsed: 0.00018596649169921875s\n",
      "QueryToVector Elapsed: 4.1961669921875e-05s\n",
      "CalculateScores Elapsed: 0.0001270771026611328s\n",
      "QueryToVector Elapsed: 4.291534423828125e-05s\n",
      "CalculateScores Elapsed: 0.000125885009765625s\n",
      "QueryToVector Elapsed: 5.1975250244140625e-05s\n",
      "CalculateScores Elapsed: 0.00013589859008789062s\n",
      "QueryToVector Elapsed: 4.6253204345703125e-05s\n",
      "CalculateScores Elapsed: 0.00013184547424316406s\n",
      "QueryToVector Elapsed: 3.0994415283203125e-05s\n",
      "CalculateScores Elapsed: 0.00010275840759277344s\n",
      "QueryToVector Elapsed: 5.91278076171875e-05s\n",
      "CalculateScores Elapsed: 0.0001499652862548828s\n",
      "QueryToVector Elapsed: 3.886222839355469e-05s\n",
      "CalculateScores Elapsed: 0.00011014938354492188s\n",
      "QueryToVector Elapsed: 2.9802322387695312e-05s\n",
      "CalculateScores Elapsed: 0.00010204315185546875s\n",
      "QueryToVector Elapsed: 4.8160552978515625e-05s\n",
      "CalculateScores Elapsed: 0.00013518333435058594s\n",
      "QueryToVector Elapsed: 4.00543212890625e-05s\n",
      "CalculateScores Elapsed: 0.00012493133544921875s\n",
      "QueryToVector Elapsed: 3.62396240234375e-05s\n",
      "CalculateScores Elapsed: 0.00012111663818359375s\n",
      "QueryToVector Elapsed: 3.814697265625e-05s\n",
      "CalculateScores Elapsed: 0.00011897087097167969s\n",
      "QueryToVector Elapsed: 4.506111145019531e-05s\n",
      "CalculateScores Elapsed: 0.00012111663818359375s\n",
      "QueryToVector Elapsed: 3.0994415283203125e-05s\n",
      "CalculateScores Elapsed: 0.00010704994201660156s\n",
      "QueryToVector Elapsed: 3.790855407714844e-05s\n",
      "CalculateScores Elapsed: 0.00011587142944335938s\n",
      "QueryToVector Elapsed: 4.601478576660156e-05s\n",
      "CalculateScores Elapsed: 0.00011682510375976562s\n",
      "QueryToVector Elapsed: 3.6716461181640625e-05s\n",
      "CalculateScores Elapsed: 0.00010585784912109375s\n",
      "QueryToVector Elapsed: 2.9087066650390625e-05s\n",
      "CalculateScores Elapsed: 9.799003601074219e-05s\n"
     ]
    }
   ],
   "source": [
    "score_metrics = runExperiment(data_loader,\n",
    "                              datasets,\n",
    "                              model_descriptions,\n",
    "                              embedding_model_name,\n",
    "                              embedding_index_folder_path)"
   ]
  },
  {
   "cell_type": "code",
   "execution_count": 6,
   "metadata": {},
   "outputs": [
    {
     "name": "stdout",
     "output_type": "stream",
     "text": [
      "\\begin{table}[h]\n",
      "\\begin{tabular}{ll|lllll}\n",
      "\\textbf{Dataset} & \\textbf{Models} & \\textbf{Time} & \\textbf{Precision} & \\textbf{Recall} & \\textbf{MRR} \\\\ \\hline\n",
      "\\multirow{6}{*}{\\rotatebox[origin=c]{90}{fiqa}} & TF-IDF & 0.0002 s & 0.0 & 0.0 & 0.0 \\\\\n",
      " & BM25 & 0.0001 s & 0.0 & 0.0 & 0.0 \\\\\n",
      " & DPR & 0.0376 s & 0.0 & 0.0 & 0.0 \\\\\n",
      " & Crossencoder & 2.0107 s & 0.0 & 0.0 & 0.0 \\\\\n",
      " & KMeans & 0.0301 s & 0.0 & 0.0 & 0.0 \\\\\n",
      " & CURE & 0.0299 s & 0.0 & 0.0 & 0.0 \\\\\n",
      "\\hline\n",
      "\\end{tabular}\n",
      "\\caption{Experiment results.}\n",
      "\\label{tab:results-table}\n",
      "\\end{table}\n"
     ]
    }
   ],
   "source": [
    "createLatexTable(score_metrics,\n",
    "                 caption=\"Experiment results.\",\n",
    "                 number_of_decimal_points=4)"
   ]
  }
 ],
 "metadata": {
  "kernelspec": {
   "display_name": "venv",
   "language": "python",
   "name": "python3"
  },
  "language_info": {
   "codemirror_mode": {
    "name": "ipython",
    "version": 3
   },
   "file_extension": ".py",
   "mimetype": "text/x-python",
   "name": "python",
   "nbconvert_exporter": "python",
   "pygments_lexer": "ipython3",
   "version": "3.11.6"
  }
 },
 "nbformat": 4,
 "nbformat_minor": 2
}
