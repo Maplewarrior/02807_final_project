{
 "cells": [
  {
   "cell_type": "markdown",
   "metadata": {},
   "source": [
    "## 0 Imports and Device"
   ]
  },
  {
   "cell_type": "markdown",
   "metadata": {},
   "source": [
    "Here we import all necessary helper functions and classes.\n",
    "We also define the device to run the models on (GPU or CPU)."
   ]
  },
  {
   "cell_type": "code",
   "execution_count": null,
   "metadata": {},
   "outputs": [],
   "source": [
    "import os\n",
    "import torch\n",
    "from models.DPR import DPR\n",
    "import configparser\n",
    "from utils.data_utils import getCorpus, getQueries\n",
    "from data.dataloader import DataLoader\n",
    "from models.model_loader_helpers import createModels, loadModels\n",
    "from utils.metrics_uitls import timeFunction, calculateMetrics\n",
    "from utils.lookup_utils import retrieveQueryAndGetRelevancies\n",
    "from utils.latex_utils import createLatexTable\n",
    "from utils.misc import batch\n",
    "device = ('cuda' if torch.cuda.is_available() else 'cpu')"
   ]
  },
  {
   "cell_type": "markdown",
   "metadata": {},
   "source": [
    "## 1 Prepare Experiments"
   ]
  },
  {
   "cell_type": "markdown",
   "metadata": {},
   "source": [
    "### 1.1 Define Experiment Configuration "
   ]
  },
  {
   "cell_type": "markdown",
   "metadata": {},
   "source": [
    "Here we define the configuration of the experiment.\n",
    "Both the datasets to perform the experiment on and the model configurations.\n",
    "\n",
    "Change the load_saved_models variable to True, to load locally saved models, instead of creating them during the experiment."
   ]
  },
  {
   "cell_type": "code",
   "execution_count": null,
   "metadata": {},
   "outputs": [],
   "source": [
    "config = configparser.ConfigParser()\n",
    "config.read('configs/config.ini')\n",
    "datasets = list(config['DATASETS'])\n",
    "data_loader = DataLoader(config)\n",
    "\n",
    "load_saved_models = False\n",
    "\n",
    "embedding_model_name = \"sentence-transformers/multi-qa-mpnet-base-dot-v1\" #'ProsusAI/finbert' #\"bert-base-uncased\"\n",
    "embedding_index_folder_path = \"indexes\"\n",
    "top_k = 100\n",
    "batch_size = 50\n",
    "subset_factors = [1, 2, 4]\n",
    "\n",
    "model_descriptions = {\n",
    "        \"TF-IDF\": {},\n",
    "        \"BM25\": {},\n",
    "        \"DPR\": {},\n",
    "        \"Crossencoder\": {\"n\" : top_k*2},\n",
    "        \"KMeans\": {\"k\":3},\n",
    "        \"CURE\": {\"n\": 25, # Represenative points\n",
    "                \"shrinkage_fraction\" : 0.1, # Fraction of points to be removed\n",
    "                \"threshold\": 0.35, # Threshold for merging clusters\n",
    "                \"initial_clusters\": 50, # Initial number of clusters\n",
    "                \"subsample_fraction\": 0.5, # Fraction of points to be used for clustering\n",
    "                \"similarity_measure\": \"cosine\"}}"
   ]
  },
  {
   "cell_type": "markdown",
   "metadata": {},
   "source": [
    "### 1.2 Define Function to Pre-compute Embeddings"
   ]
  },
  {
   "cell_type": "markdown",
   "metadata": {},
   "source": [
    "This function helps us reduce a lot of computations, by pre computing the embeddings offline and loading them online, instead of computing them multiple times (one time for each model that relies on embeddings)."
   ]
  },
  {
   "cell_type": "code",
   "execution_count": null,
   "metadata": {},
   "outputs": [],
   "source": [
    "def preComputeEmbeddings(dataset: str, \n",
    "                         documents: list[dict], \n",
    "                         embedding_model_name: str, \n",
    "                         embedding_index_folder_path: str):\n",
    "    embedder = DPR(documents, model_name=embedding_model_name)\n",
    "    embedding_index_path = getPreComputedEmbeddingsPath(dataset, embedding_index_folder_path)\n",
    "    embedder.SaveIndex(embedding_index_path)\n",
    "    return embedding_index_path\n",
    "\n",
    "def getPreComputedEmbeddingsPath(dataset: str, embedding_index_folder_path: str):\n",
    "    return os.path.join(embedding_index_folder_path,dataset,\"embedding_index.pickle\")\n",
    "\n",
    "def InitializeModels(models: dict, device: str):\n",
    "    for model_name, retriever in models.items():\n",
    "        retriever.device = device # give attribute device to model\n",
    "        if hasattr(retriever, 'model'):\n",
    "            retriever.model.to(device) # send Encoder to device\n",
    "            retriever.index.GetEmbeddingMatrix()\n",
    "            retriever.index.embedding_matrix = retriever.index.embedding_matrix.to(device) # NOTE: This does not work inplace\n",
    "        # if hasattr(retriever, 'crossencoder'):\n",
    "        #     # retriever.crossencoder.to(device)\n",
    "        #     print(\"CE DEVICE:\", retriever.crossencoder.device)"
   ]
  },
  {
   "cell_type": "markdown",
   "metadata": {},
   "source": [
    "## 2 Run Experiemnt"
   ]
  },
  {
   "cell_type": "markdown",
   "metadata": {},
   "source": [
    "Here we define the experiment itself.\n",
    "We itterate over all datasets and perform retrieval for each query for each model.\n",
    "We then return the score metrics, which are the mean precision, recall, reciprocal rank and time for each model."
   ]
  },
  {
   "cell_type": "code",
   "execution_count": null,
   "metadata": {},
   "outputs": [],
   "source": [
    "def runExperiment(data_loader: DataLoader, \n",
    "                  datasets: list[str], \n",
    "                  model_descriptions: dict[str, dict],\n",
    "                  embedding_model_name: str,\n",
    "                  embedding_index_folder_path: str,\n",
    "                  top_k: int):\n",
    "    \n",
    "    score_metrics: dict[str, dict[str, dict[str, float]]] = {}\n",
    "    print(f'Load saved models: {load_saved_models}')\n",
    "    for dataset in datasets:\n",
    "        score_metrics[dataset] = {}\n",
    "        documents, relevant_doc_ids_for_all_queries = getCorpus(data_loader, dataset)\n",
    "\n",
    "        assert len(documents) > top_k, \"top_k cannot be longer than the amount of documents in the corpus!\"\n",
    "\n",
    "        queries = getQueries(data_loader, relevant_doc_ids_for_all_queries)\n",
    "\n",
    "        if load_saved_models:\n",
    "            print(f'Loading saved models!')\n",
    "            models = loadModels(dataset, model_descriptions)\n",
    "            InitializeModels(models, device=device)\n",
    "            print(\"Models loaded!\")\n",
    "        else:\n",
    "            # Compute embeddings if not done already\n",
    "            if not os.path.exists(getPreComputedEmbeddingsPath(dataset, embedding_index_folder_path)):\n",
    "                embedding_index_path = preComputeEmbeddings(dataset, \n",
    "                                documents,\n",
    "                                embedding_model_name,\n",
    "                                embedding_index_folder_path)\n",
    "                print('Finished computing embeddings!')\n",
    "            embedding_index_path = getPreComputedEmbeddingsPath(dataset, embedding_index_folder_path)\n",
    "            print(f'Embedding index path: {embedding_index_path}')\n",
    "            models = createModels(documents=documents, \n",
    "                                   dataset_name=dataset, \n",
    "                                   models=model_descriptions, \n",
    "                                   embedding_index_path=embedding_index_path,\n",
    "                                   save=True)\n",
    "        \n",
    "        for model_name, model in models.items():\n",
    "            if model_name == 'Crossencoder':\n",
    "                print(f'\\nActual device: {device}\\nCrossencoder target device: {model.crossencoder._target_device}\\nIf these do not match, consider running CreateModel as opposed to LoadModel!\\n')\n",
    "            print(f'Computing results for {model_name}')\n",
    "            results = []\n",
    "            times = []\n",
    "            score_metrics[dataset][model_name] = {}\n",
    "\n",
    "            itt = 0\n",
    "            for query_batch in batch(queries, batch_size):\n",
    "                elapsed, relevancies = timeFunction(retrieveQueryAndGetRelevancies, \n",
    "                                                 **{\"model\": model, \n",
    "                                                    \"queries\": query_batch, \n",
    "                                                    \"k\": top_k})\n",
    "                results.extend(relevancies)\n",
    "                times.append(elapsed)\n",
    "                itt += batch_size\n",
    "                if itt % 500 == 0:\n",
    "                    print(f\"Iter: {itt}/{len(queries)}\")\n",
    "\n",
    "            model_metrics = calculateMetrics(results, queries, subset_factors=subset_factors)\n",
    "            score_metrics[dataset][model_name] = model_metrics\n",
    "            score_metrics[dataset][model_name][\"time\"] = sum(times)/len(times)\n",
    "    return score_metrics"
   ]
  },
  {
   "cell_type": "markdown",
   "metadata": {},
   "source": [
    "Here we perform the acutal experiment. This might take a while to run, depending on the number of models and datasets."
   ]
  },
  {
   "cell_type": "code",
   "execution_count": null,
   "metadata": {},
   "outputs": [],
   "source": [
    "score_metrics = runExperiment(data_loader,\n",
    "                              datasets,\n",
    "                              model_descriptions,\n",
    "                              embedding_model_name,\n",
    "                              embedding_index_folder_path,\n",
    "                              top_k=top_k)"
   ]
  },
  {
   "cell_type": "code",
   "execution_count": null,
   "metadata": {},
   "outputs": [],
   "source": [
    "# Check results\n",
    "score_metrics"
   ]
  }
 ],
 "metadata": {
  "kernelspec": {
   "display_name": "venv",
   "language": "python",
   "name": "python3"
  },
  "language_info": {
   "codemirror_mode": {
    "name": "ipython",
    "version": 3
   },
   "file_extension": ".py",
   "mimetype": "text/x-python",
   "name": "python",
   "nbconvert_exporter": "python",
   "pygments_lexer": "ipython3",
   "version": "3.10.10"
  }
 },
 "nbformat": 4,
 "nbformat_minor": 2
}
