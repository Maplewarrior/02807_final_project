{
 "cells": [
  {
   "cell_type": "markdown",
   "metadata": {},
   "source": [
    "## 0 Imports and Device"
   ]
  },
  {
   "cell_type": "markdown",
   "metadata": {},
   "source": [
    "Here we import all necessary helper functions and classes.\n",
    "We also define the device to run the models on (GPU or CPU)."
   ]
  },
  {
   "cell_type": "code",
   "execution_count": 20,
   "metadata": {},
   "outputs": [],
   "source": [
    "import os\n",
    "import torch\n",
    "from models.DPR import DPR\n",
    "import configparser\n",
    "from utils.data_utils import getCorpus, getQueries\n",
    "from data.dataloader import DataLoader\n",
    "from models.model_loader_helpers import createModels, loadModels\n",
    "from utils.metrics_uitls import timeFunction, calculateMetrics\n",
    "from utils.lookup_utils import retrieveQueryAndGetRelevancies\n",
    "from utils.latex_utils import createLatexTable\n",
    "device = ('cuda' if torch.cuda.is_available() else 'cpu')"
   ]
  },
  {
   "cell_type": "markdown",
   "metadata": {},
   "source": [
    "## 1 Prepare Experiments"
   ]
  },
  {
   "cell_type": "markdown",
   "metadata": {},
   "source": [
    "### 1.1 Define Experiment Configuration "
   ]
  },
  {
   "cell_type": "markdown",
   "metadata": {},
   "source": [
    "Here we define the configuration of the experiment.\n",
    "Both the datasets to perform the experiment on and the model configurations.\n",
    "\n",
    "Change the load_saved_models variable to True, to load locally saved models, instead of creating them during the experiment."
   ]
  },
  {
   "cell_type": "code",
   "execution_count": 31,
   "metadata": {},
   "outputs": [],
   "source": [
    "config = configparser.ConfigParser()\n",
    "config.read('configs/config.ini')\n",
    "datasets = list(config['DATASETS'])\n",
    "data_loader = DataLoader(config)\n",
    "\n",
    "# model_descriptions = {\"TF-IDF\": {},\n",
    "#         \"BM25\": {},\n",
    "#         \"DPR\": {},\n",
    "#         \"Crossencoder\": {\"n\":25},\n",
    "#         \"KMeans\": {\"k\":4},\n",
    "#         \"CURE\": {\"k\": 2, \"n\": 2, \"shrinkage_fraction\":0.2}}\n",
    "\n",
    "model_descriptions = {\"TF-IDF\": {},\n",
    "        \"BM25\": {},\n",
    "        \"DPR\": {},\n",
    "        \"Crossencoder\": {\"n\":25},\n",
    "        \"KMeans\": {\"k\":3}}\n",
    "\n",
    "load_saved_models = False\n",
    "\n",
    "embedding_model_name = \"bert-base-uncased\"\n",
    "embedding_index_folder_path = \"indexes\"\n",
    "top_k = 25"
   ]
  },
  {
   "cell_type": "markdown",
   "metadata": {},
   "source": [
    "### 1.2 Define Function to Pre-compute Embeddings"
   ]
  },
  {
   "cell_type": "markdown",
   "metadata": {},
   "source": [
    "This function helps us reduce a lot of computations, by pre computing the embeddings offline and loading them online, instead of computing them multiple times (one time for each model that relies on embeddings)."
   ]
  },
  {
   "cell_type": "code",
   "execution_count": 32,
   "metadata": {},
   "outputs": [],
   "source": [
    "def preComputeEmbeddings(dataset: str, \n",
    "                         documents: list[dict], \n",
    "                         embedding_model_name: str, \n",
    "                         embedding_index_folder_path: str):\n",
    "    embedder = DPR(documents, model_name=embedding_model_name)\n",
    "    embedding_index_path = getPreComputedEmbeddingsPath(dataset, embedding_index_folder_path)\n",
    "    embedder.SaveIndex(embedding_index_path)\n",
    "    return embedding_index_path\n",
    "\n",
    "def getPreComputedEmbeddingsPath(dataset: str, embedding_index_folder_path: str):\n",
    "    return os.path.join(embedding_index_folder_path,dataset,\"embedding_index.pickle\")\n"
   ]
  },
  {
   "cell_type": "markdown",
   "metadata": {},
   "source": [
    "## 2 Run Experiemnt"
   ]
  },
  {
   "cell_type": "markdown",
   "metadata": {},
   "source": [
    "Here we define the experiment itself.\n",
    "We itterate over all datasets and perform retrieval for each query for each model.\n",
    "We then return the score metrics, which are the mean precision, recall, reciprocal rank and time for each model."
   ]
  },
  {
   "cell_type": "code",
   "execution_count": 33,
   "metadata": {},
   "outputs": [],
   "source": [
    "def runExperiment(data_loader: DataLoader, \n",
    "                  datasets: list[str], \n",
    "                  model_descriptions: dict[str, dict],\n",
    "                  embedding_model_name: str,\n",
    "                  embedding_index_folder_path: str,\n",
    "                  top_k: int):\n",
    "    \n",
    "    score_metrics: dict[str, dict[str, dict[str, float]]] = {}\n",
    "    print(f'{load_saved_models}')\n",
    "    for dataset in datasets:\n",
    "        score_metrics[dataset] = {}\n",
    "        documents, relevant_doc_ids_for_all_queries = getCorpus(data_loader, dataset)\n",
    "        queries = getQueries(data_loader, relevant_doc_ids_for_all_queries)\n",
    "        if load_saved_models:\n",
    "            print(f'Loading saved models!')\n",
    "            models = loadModels(dataset, model_descriptions)\n",
    "            print(\"Models loaded!\")\n",
    "        else:\n",
    "            # Compute embeddings if not done already\n",
    "            if not os.path.exists(getPreComputedEmbeddingsPath(dataset, embedding_index_folder_path)):\n",
    "                embedding_index_path = preComputeEmbeddings(dataset, \n",
    "                                documents,\n",
    "                                embedding_model_name,\n",
    "                                embedding_index_folder_path)\n",
    "                print('Finished computing embeddings!')\n",
    "            embedding_index_path = getPreComputedEmbeddingsPath(dataset, embedding_index_folder_path)\n",
    "            \n",
    "            models = createModels(documents=documents, \n",
    "                                   dataset_name=dataset, \n",
    "                                   models=model_descriptions, \n",
    "                                   embedding_index_path=embedding_index_path,\n",
    "                                   save=True)\n",
    "        \n",
    "        for model_name, model in models.items():\n",
    "            print(f'Computing results for {model_name}')\n",
    "            results = []\n",
    "            times = []\n",
    "            score_metrics[dataset][model_name] = {}\n",
    "            for query in queries:\n",
    "                time, relevancies = timeFunction(retrieveQueryAndGetRelevancies, \n",
    "                                                 **{\"model\": model, \n",
    "                                                    \"query\": query, \n",
    "                                                    \"k\": top_k})\n",
    "                results.append(relevancies)\n",
    "                times.append(time)\n",
    "            precision, recall, reciprocal_rank = calculateMetrics(results, queries)\n",
    "            score_metrics[dataset][model_name][\"precision\"] = precision\n",
    "            score_metrics[dataset][model_name][\"recall\"] = recall\n",
    "            score_metrics[dataset][model_name][\"reciprocal_rank\"] = reciprocal_rank\n",
    "            score_metrics[dataset][model_name][\"time\"] = sum(times)/len(times)\n",
    "    return score_metrics"
   ]
  },
  {
   "cell_type": "markdown",
   "metadata": {},
   "source": [
    "Here we perform the acutal experiment."
   ]
  },
  {
   "cell_type": "code",
   "execution_count": 34,
   "metadata": {},
   "outputs": [
    {
     "name": "stdout",
     "output_type": "stream",
     "text": [
      "False\n",
      "\n",
      "Loading dataset from data/datasets\\fiqa\n",
      "data/datasets\\fiqa\\corpus.jsonl\n"
     ]
    },
    {
     "ename": "UnboundLocalError",
     "evalue": "local variable 'embedding_index_path' referenced before assignment",
     "output_type": "error",
     "traceback": [
      "\u001b[1;31m---------------------------------------------------------------------------\u001b[0m",
      "\u001b[1;31mUnboundLocalError\u001b[0m                         Traceback (most recent call last)",
      "\u001b[1;32mc:\\Users\\micha\\OneDrive\\Skrivebord\\02807_final_project\\run_experiments.ipynb Cell 15\u001b[0m line \u001b[0;36m1\n\u001b[1;32m----> <a href='vscode-notebook-cell:/c%3A/Users/micha/OneDrive/Skrivebord/02807_final_project/run_experiments.ipynb#X20sZmlsZQ%3D%3D?line=0'>1</a>\u001b[0m score_metrics \u001b[39m=\u001b[39m runExperiment(data_loader,\n\u001b[0;32m      <a href='vscode-notebook-cell:/c%3A/Users/micha/OneDrive/Skrivebord/02807_final_project/run_experiments.ipynb#X20sZmlsZQ%3D%3D?line=1'>2</a>\u001b[0m                               datasets,\n\u001b[0;32m      <a href='vscode-notebook-cell:/c%3A/Users/micha/OneDrive/Skrivebord/02807_final_project/run_experiments.ipynb#X20sZmlsZQ%3D%3D?line=2'>3</a>\u001b[0m                               model_descriptions,\n\u001b[0;32m      <a href='vscode-notebook-cell:/c%3A/Users/micha/OneDrive/Skrivebord/02807_final_project/run_experiments.ipynb#X20sZmlsZQ%3D%3D?line=3'>4</a>\u001b[0m                               embedding_model_name,\n\u001b[0;32m      <a href='vscode-notebook-cell:/c%3A/Users/micha/OneDrive/Skrivebord/02807_final_project/run_experiments.ipynb#X20sZmlsZQ%3D%3D?line=4'>5</a>\u001b[0m                               embedding_index_folder_path,\n\u001b[0;32m      <a href='vscode-notebook-cell:/c%3A/Users/micha/OneDrive/Skrivebord/02807_final_project/run_experiments.ipynb#X20sZmlsZQ%3D%3D?line=5'>6</a>\u001b[0m                               top_k\u001b[39m=\u001b[39;49mtop_k)\n",
      "\u001b[1;32mc:\\Users\\micha\\OneDrive\\Skrivebord\\02807_final_project\\run_experiments.ipynb Cell 15\u001b[0m line \u001b[0;36m2\n\u001b[0;32m     <a href='vscode-notebook-cell:/c%3A/Users/micha/OneDrive/Skrivebord/02807_final_project/run_experiments.ipynb#X20sZmlsZQ%3D%3D?line=19'>20</a>\u001b[0m         embedding_index_path \u001b[39m=\u001b[39m preComputeEmbeddings(dataset, \n\u001b[0;32m     <a href='vscode-notebook-cell:/c%3A/Users/micha/OneDrive/Skrivebord/02807_final_project/run_experiments.ipynb#X20sZmlsZQ%3D%3D?line=20'>21</a>\u001b[0m                         documents,\n\u001b[0;32m     <a href='vscode-notebook-cell:/c%3A/Users/micha/OneDrive/Skrivebord/02807_final_project/run_experiments.ipynb#X20sZmlsZQ%3D%3D?line=21'>22</a>\u001b[0m                         embedding_model_name,\n\u001b[0;32m     <a href='vscode-notebook-cell:/c%3A/Users/micha/OneDrive/Skrivebord/02807_final_project/run_experiments.ipynb#X20sZmlsZQ%3D%3D?line=22'>23</a>\u001b[0m                         embedding_index_folder_path)\n\u001b[0;32m     <a href='vscode-notebook-cell:/c%3A/Users/micha/OneDrive/Skrivebord/02807_final_project/run_experiments.ipynb#X20sZmlsZQ%3D%3D?line=23'>24</a>\u001b[0m         \u001b[39mprint\u001b[39m(\u001b[39m'\u001b[39m\u001b[39mFinished computing embeddings!\u001b[39m\u001b[39m'\u001b[39m)\n\u001b[0;32m     <a href='vscode-notebook-cell:/c%3A/Users/micha/OneDrive/Skrivebord/02807_final_project/run_experiments.ipynb#X20sZmlsZQ%3D%3D?line=25'>26</a>\u001b[0m     models \u001b[39m=\u001b[39m createModels(documents\u001b[39m=\u001b[39mdocuments, \n\u001b[0;32m     <a href='vscode-notebook-cell:/c%3A/Users/micha/OneDrive/Skrivebord/02807_final_project/run_experiments.ipynb#X20sZmlsZQ%3D%3D?line=26'>27</a>\u001b[0m                            dataset_name\u001b[39m=\u001b[39mdataset, \n\u001b[0;32m     <a href='vscode-notebook-cell:/c%3A/Users/micha/OneDrive/Skrivebord/02807_final_project/run_experiments.ipynb#X20sZmlsZQ%3D%3D?line=27'>28</a>\u001b[0m                            models\u001b[39m=\u001b[39mmodel_descriptions, \n\u001b[1;32m---> <a href='vscode-notebook-cell:/c%3A/Users/micha/OneDrive/Skrivebord/02807_final_project/run_experiments.ipynb#X20sZmlsZQ%3D%3D?line=28'>29</a>\u001b[0m                            embedding_index_path\u001b[39m=\u001b[39membedding_index_path,\n\u001b[0;32m     <a href='vscode-notebook-cell:/c%3A/Users/micha/OneDrive/Skrivebord/02807_final_project/run_experiments.ipynb#X20sZmlsZQ%3D%3D?line=29'>30</a>\u001b[0m                            save\u001b[39m=\u001b[39m\u001b[39mTrue\u001b[39;00m)\n\u001b[0;32m     <a href='vscode-notebook-cell:/c%3A/Users/micha/OneDrive/Skrivebord/02807_final_project/run_experiments.ipynb#X20sZmlsZQ%3D%3D?line=31'>32</a>\u001b[0m \u001b[39mfor\u001b[39;00m model_name, model \u001b[39min\u001b[39;00m models\u001b[39m.\u001b[39mitems():\n\u001b[0;32m     <a href='vscode-notebook-cell:/c%3A/Users/micha/OneDrive/Skrivebord/02807_final_project/run_experiments.ipynb#X20sZmlsZQ%3D%3D?line=32'>33</a>\u001b[0m     \u001b[39mprint\u001b[39m(\u001b[39mf\u001b[39m\u001b[39m'\u001b[39m\u001b[39mComputing results for \u001b[39m\u001b[39m{\u001b[39;00mmodel_name\u001b[39m}\u001b[39;00m\u001b[39m'\u001b[39m)\n",
      "\u001b[1;31mUnboundLocalError\u001b[0m: local variable 'embedding_index_path' referenced before assignment"
     ]
    }
   ],
   "source": [
    "score_metrics = runExperiment(data_loader,\n",
    "                              datasets,\n",
    "                              model_descriptions,\n",
    "                              embedding_model_name,\n",
    "                              embedding_index_folder_path,\n",
    "                              top_k=top_k)"
   ]
  },
  {
   "cell_type": "code",
   "execution_count": null,
   "metadata": {},
   "outputs": [
    {
     "name": "stdout",
     "output_type": "stream",
     "text": [
      "\\begin{table}[h]\n",
      "\\begin{tabular}{ll|lllll}\n",
      "\\textbf{Dataset} & \\textbf{Models} & \\textbf{Time} & \\textbf{Precision} & \\textbf{Recall} & \\textbf{MRR} \\\\ \\hline\n",
      "\\multirow{6}{*}{\\rotatebox[origin=c]{90}{fiqa}} & TF-IDF & 0.0002 s & 0.0 & 0.0 & 0.0 \\\\\n",
      " & BM25 & 0.0001 s & 0.0 & 0.0 & 0.0 \\\\\n",
      " & DPR & 0.0376 s & 0.0 & 0.0 & 0.0 \\\\\n",
      " & Crossencoder & 2.0107 s & 0.0 & 0.0 & 0.0 \\\\\n",
      " & KMeans & 0.0301 s & 0.0 & 0.0 & 0.0 \\\\\n",
      " & CURE & 0.0299 s & 0.0 & 0.0 & 0.0 \\\\\n",
      "\\hline\n",
      "\\end{tabular}\n",
      "\\caption{Experiment results.}\n",
      "\\label{tab:results-table}\n",
      "\\end{table}\n"
     ]
    }
   ],
   "source": [
    "createLatexTable(score_metrics,\n",
    "                 caption=\"Experiment results.\",\n",
    "                 number_of_decimal_points=4)"
   ]
  },
  {
   "cell_type": "code",
   "execution_count": null,
   "metadata": {},
   "outputs": [],
   "source": []
  }
 ],
 "metadata": {
  "kernelspec": {
   "display_name": "venv",
   "language": "python",
   "name": "python3"
  },
  "language_info": {
   "codemirror_mode": {
    "name": "ipython",
    "version": 3
   },
   "file_extension": ".py",
   "mimetype": "text/x-python",
   "name": "python",
   "nbconvert_exporter": "python",
   "pygments_lexer": "ipython3",
   "version": "3.9.13"
  }
 },
 "nbformat": 4,
 "nbformat_minor": 2
}
