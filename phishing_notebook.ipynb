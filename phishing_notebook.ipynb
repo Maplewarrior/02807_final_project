{
 "cells": [
  {
   "cell_type": "markdown",
   "metadata": {},
   "source": [
    "## 0 Imports and Device"
   ]
  },
  {
   "cell_type": "markdown",
   "metadata": {},
   "source": [
    "Here we import all necessary helper functions and classes.\n",
    "We also define the device to run the models on (GPU or CPU)."
   ]
  },
  {
   "cell_type": "code",
   "execution_count": 1,
   "metadata": {},
   "outputs": [],
   "source": [
    "from data.phishing import LoadPhishingDataset\n",
    "from models.builers.retriever import Retriever\n",
    "from data.dataloader import DataLoader\n",
    "from models.model_loader_helpers import createModels, loadModels\n",
    "from utils.phishing_utils import getPhishingQueries\n",
    "from models.DPR import DPR\n",
    "from utils.metrics_uitls import timeFunction\n",
    "from utils.phishing_utils import calculatePhishingAccuracy, evaluatePhishingByMajorityVote\n",
    "import configparser\n",
    "import torch\n",
    "import os\n",
    "device = ('cuda' if torch.cuda.is_available() else 'cpu')"
   ]
  },
  {
   "cell_type": "markdown",
   "metadata": {},
   "source": [
    "## 1 Prepare Experiments"
   ]
  },
  {
   "cell_type": "markdown",
   "metadata": {},
   "source": [
    "### 1.1 Define Experiment Configuration "
   ]
  },
  {
   "cell_type": "markdown",
   "metadata": {},
   "source": [
    "Here we define the configuration of the experiment.\n",
    "Both the datasets to perform the experiment on and the model configurations.\n",
    "\n",
    "Change the load_saved_models variable to True, to load locally saved models, instead of creating them during the experiment."
   ]
  },
  {
   "cell_type": "code",
   "execution_count": 2,
   "metadata": {},
   "outputs": [],
   "source": [
    "config = configparser.ConfigParser()\n",
    "config.read('configs/config.ini')\n",
    "data_loader = DataLoader(config)\n",
    "\n",
    "model_descriptions = {\n",
    "        \"TF-IDF\": {},\n",
    "        \"BM25\": {},\n",
    "        \"DPR\": {},\n",
    "        \"Crossencoder\": {\"n\":25},\n",
    "        \"KMeans\": {\"k\":4},\n",
    "        \"CURE\": {\"n\": 25, \"initial_clusters\": 25, \"threshold\": 0.35, \"subsample_fraction\": 0.5, \"shrinkage_fraction\":0.2}}\n",
    "\n",
    "load_saved_models = False\n",
    "\n",
    "embedding_model_name = \"bert-base-uncased\"\n",
    "embedding_index_folder_path = \"indexes\"\n",
    "\n",
    "top_k = 25"
   ]
  },
  {
   "cell_type": "markdown",
   "metadata": {},
   "source": [
    "### 1.2 Define Function to Pre-compute Embeddings"
   ]
  },
  {
   "cell_type": "markdown",
   "metadata": {},
   "source": [
    "This function helps us reduce a lot of computations, by pre computing the embeddings offline and loading them online, instead of computing them multiple times (one time for each model that relies on embeddings)."
   ]
  },
  {
   "cell_type": "code",
   "execution_count": 3,
   "metadata": {},
   "outputs": [],
   "source": [
    "def preComputeEmbeddings(dataset: str, \n",
    "                         documents: list[dict], \n",
    "                         embedding_model_name: str, \n",
    "                         embedding_index_folder_path: str):\n",
    "    embedder = DPR(documents, model_name=embedding_model_name)\n",
    "    embedding_index_path = getPreComputedEmbeddingsPath(dataset, embedding_index_folder_path)\n",
    "    embedder.SaveIndex(embedding_index_path)\n",
    "    return embedding_index_path\n",
    "\n",
    "def getPreComputedEmbeddingsPath(dataset: str, embedding_index_folder_path: str):\n",
    "    return os.path.join(embedding_index_folder_path,dataset,\"embedding_index.pickle\")"
   ]
  },
  {
   "cell_type": "markdown",
   "metadata": {},
   "source": [
    "## 2 Run Experiemnt"
   ]
  },
  {
   "cell_type": "markdown",
   "metadata": {},
   "source": [
    "Here we define the experiment itself.\n",
    "We itterate over all datasets and perform retrieval for each query for each model.\n",
    "We then return the score metrics, which are the mean precision, recall, reciprocal rank and time for each model."
   ]
  },
  {
   "cell_type": "code",
   "execution_count": 4,
   "metadata": {},
   "outputs": [],
   "source": [
    "def runPhishingExperiment( datasets_path: str, \n",
    "                  model_descriptions: dict[str, dict],\n",
    "                  embedding_model_name: str,\n",
    "                  embedding_index_folder_path: str,\n",
    "                  top_k: int):\n",
    "    score_metrics: dict[str, dict[str, float]] = {}\n",
    "    dataset = LoadPhishingDataset(datasets_path)\n",
    "    queries = getPhishingQueries(dataset)\n",
    "    queries = queries[:25]\n",
    "    documents = dataset.GetDocumentDicts()\n",
    "    documents = documents[:100]\n",
    "    if load_saved_models:\n",
    "        models = loadModels(dataset, model_descriptions)\n",
    "    else:\n",
    "        embedding_index_path = preComputeEmbeddings(\n",
    "                            \"phishing\", \n",
    "                            documents,\n",
    "                            embedding_model_name,\n",
    "                            embedding_index_folder_path)\n",
    "        models: dict[str, Retriever] = createModels(documents=documents, \n",
    "                                dataset_name=\"phishing\", \n",
    "                                models=model_descriptions, \n",
    "                                embedding_index_path=embedding_index_path,\n",
    "                                save=True)\n",
    "    for model_name, model in models.items():\n",
    "        preds = []\n",
    "        labels = []\n",
    "        score_metrics[model_name] = {}\n",
    "        # for query in queries:\n",
    "        #     time, retrieved_documents = timeFunction(model.Lookup, \n",
    "        #                                         **{\"queries\": [query.getQuery()], \n",
    "        #                                         \"k\": top_k})\n",
    "        #     retrieved_labels = [dataset.GetLabelFromId(document.GetId()) for document in retrieved_documents]\n",
    "        #     pred = evaluatePhishingByMajorityVote(retrieved_labels)\n",
    "        #     preds.append(pred)\n",
    "        #     labels.append(query.getLabel())\n",
    "        #     times.append(time)\n",
    "        time, retrieved_documents = timeFunction(model.Lookup, \n",
    "                                                **{\"queries\": [query.getQuery() for query in queries], \n",
    "                                                \"k\": top_k})\n",
    "        retrieved_labels = [[dataset.GetLabelFromId(document.GetId()) for document in query] for query in retrieved_documents]\n",
    "        preds = evaluatePhishingByMajorityVote(retrieved_labels)\n",
    "        labels = [query.getLabel() for query in queries]\n",
    "        \n",
    "        score_metrics[model_name][\"accuracy\"] = calculatePhishingAccuracy(preds, labels)\n",
    "        score_metrics[model_name][\"time\"] = time/len(queries)\n",
    "    return score_metrics"
   ]
  },
  {
   "cell_type": "code",
   "execution_count": 5,
   "metadata": {},
   "outputs": [
    {
     "name": "stdout",
     "output_type": "stream",
     "text": [
      "Initializing retrieval model!\n"
     ]
    },
    {
     "name": "stderr",
     "output_type": "stream",
     "text": [
      "/Users/andreasbigom/Documents/dtu/computational_tools/02807_final_project/venv/lib/python3.11/site-packages/tqdm/auto.py:21: TqdmWarning: IProgress not found. Please update jupyter and ipywidgets. See https://ipywidgets.readthedocs.io/en/stable/user_install.html\n",
      "  from .autonotebook import tqdm as notebook_tqdm\n"
     ]
    },
    {
     "name": "stdout",
     "output_type": "stream",
     "text": [
      "Building embedding index using device: cpu. Running this on GPU is strongly adviced!\n",
      "__BuildIndex Elapsed: 14.826141119003296s\n",
      "DPR running on cpu\n",
      "Embedding model is:\n",
      "bert-base-uncased\n",
      "Creating TF-IDF model\n",
      "GetCorpusVocabulary Elapsed: 0.0024399757385253906s\n",
      "GetInverseDocumentFrequencies Elapsed: 0.005352973937988281s\n",
      "GetDocumentsTFIDFVectors Elapsed: 0.024586915969848633s\n",
      "Saving model 'TF-IDF' at: models/pickled_models/phishing/TF-IDF.pickle\n",
      "Creating BM25 model\n",
      "GetCorpusVocabulary Elapsed: 0.002263784408569336s\n",
      "GetInverseDocumentFrequencies Elapsed: 0.005182981491088867s\n",
      "GetDocumentLengths Elapsed: 0.0009260177612304688s\n",
      "GetDocumentBM25Vectors Elapsed: 0.025222063064575195s\n",
      "Saving model 'BM25' at: models/pickled_models/phishing/BM25.pickle\n",
      "Creating DPR model\n",
      "Initializing retrieval model!\n",
      "Embedding matrix initialized to cpu!\n",
      "DPR running on cpu\n",
      "Embedding model is:\n",
      "sentence-transformers/multi-qa-mpnet-base-dot-v1\n",
      "Saving model 'DPR' at: models/pickled_models/phishing/DPR.pickle\n",
      "Crossencoder model\n",
      "Initializing retrieval model!\n",
      "Embedding matrix initialized to cpu!\n",
      "DPR running on cpu\n",
      "Embedding model is:\n",
      "sentence-transformers/multi-qa-mpnet-base-dot-v1\n",
      "Saving model 'Crossencoder' at: models/pickled_models/phishing/Crossencoder_n25.pickle\n",
      "KMeans model\n",
      "Initializing retrieval model!\n",
      "Embedding matrix initialized to cpu!\n",
      "KMeans running on: cpu\n",
      "Computing 4 cluster centroids\n",
      "Error difference: 12.138659082353115\n",
      "Error difference: 0.24973880499601364\n",
      "Error difference: 0.014307528734207153\n",
      "Error difference: 0.010783329606056213\n",
      "Error difference: 0.0\n",
      "Creating embedding matrices for clusters!\n",
      "Saving model 'KMeans' at: models/pickled_models/phishing/KMeans_k4.pickle\n",
      "CURE model\n",
      "Initializing retrieval model!\n",
      "Embedding matrix initialized to cpu!\n",
      "Created clusters using agglomerative of sizes 1 2 2 1 2 2 2 2 9 3 1 1 6 1 1 1 1 1 1 1 2 1 4 1 1\n",
      "\n",
      "\n",
      "Time 0.16502809524536133 \n",
      "\n",
      "\n",
      "Saving model 'CURE' at: models/pickled_models/phishing/CURE_n25_initial_clusters25_threshold0.35_subsample_fraction0.5_shrinkage_fraction0.2.pickle\n",
      "{'TF-IDF': {'accuracy': 0.92, 'time': 0.0003271316405152902}, 'BM25': {'accuracy': 0.88, 'time': 0.00030741836002562195}, 'DPR': {'accuracy': 0.52, 'time': 0.14455241332005245}, 'Crossencoder': {'accuracy': 0.52, 'time': 0.24003220335987863}, 'KMeans': {'accuracy': 0.72, 'time': 0.1543515416799346}, 'CURE': {'accuracy': 0.52, 'time': 0.1512577333196532}}\n"
     ]
    }
   ],
   "source": [
    "score_metrics = runPhishingExperiment(\"data/datasets/Phishing_Email.csv\", \n",
    "                  model_descriptions,\n",
    "                  embedding_model_name,\n",
    "                  embedding_index_folder_path,\n",
    "                  top_k)\n",
    "print(score_metrics)"
   ]
  }
 ],
 "metadata": {
  "kernelspec": {
   "display_name": "venv",
   "language": "python",
   "name": "python3"
  },
  "language_info": {
   "codemirror_mode": {
    "name": "ipython",
    "version": 3
   },
   "file_extension": ".py",
   "mimetype": "text/x-python",
   "name": "python",
   "nbconvert_exporter": "python",
   "pygments_lexer": "ipython3",
   "version": "3.11.6"
  }
 },
 "nbformat": 4,
 "nbformat_minor": 2
}
