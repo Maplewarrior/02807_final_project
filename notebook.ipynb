{
 "cells": [
  {
   "cell_type": "markdown",
   "metadata": {},
   "source": [
    "### Defining the Dataset"
   ]
  },
  {
   "cell_type": "code",
   "execution_count": 1,
   "metadata": {},
   "outputs": [],
   "source": [
    "documents = [\n",
    "    {\"text\": \"A cat is an animal.\", \"id\": 1}, \n",
    "    {\"text\": \"The city of new york is big.\", \"id\": 2},\n",
    "    {\"text\": \"The city of chicago is big.\", \"id\": 3},\n",
    "    {\"text\": \"The city of gentofte is big.\", \"id\": 4},\n",
    "    {\"text\": \"The city of copenhagen is big.\", \"id\": 5}\n",
    "    ]"
   ]
  },
  {
   "cell_type": "markdown",
   "metadata": {},
   "source": [
    "### Defining the Models"
   ]
  },
  {
   "cell_type": "code",
   "execution_count": 2,
   "metadata": {},
   "outputs": [
    {
     "name": "stderr",
     "output_type": "stream",
     "text": [
      "/Users/andreasbigom/Documents/dtu/computational_tools/02807_final_project/venv/lib/python3.11/site-packages/tqdm/auto.py:21: TqdmWarning: IProgress not found. Please update jupyter and ipywidgets. See https://ipywidgets.readthedocs.io/en/stable/user_install.html\n",
      "  from .autonotebook import tqdm as notebook_tqdm\n"
     ]
    }
   ],
   "source": [
    "from models.builers.retriever import Retriever\n",
    "from models.tfidf import TFIDF\n",
    "from models.dpr import DPR\n",
    "from models.dpr_crossencoder import DPRCrossencoder\n",
    "\n",
    "models: dict[str: Retriever] = {\n",
    "    \"TF-IDF\": TFIDF(documents=documents),\n",
    "    \"DPR\": DPR(documents=documents),\n",
    "    \"Crossencoder\": DPRCrossencoder(documents=documents, n=25),\n",
    "}"
   ]
  },
  {
   "cell_type": "markdown",
   "metadata": {},
   "source": [
    "### Perform Experiment"
   ]
  },
  {
   "cell_type": "code",
   "execution_count": 5,
   "metadata": {},
   "outputs": [
    {
     "name": "stdout",
     "output_type": "stream",
     "text": [
      "TF-IDF\n",
      "['A cat is an animal.', 'The city of new york is big.', 'The city of chicago is big.', 'The city of gentofte is big.', 'The city of copenhagen is big.']\n",
      "DPR\n",
      "['The city of chicago is big.', 'The city of copenhagen is big.', 'The city of new york is big.', 'A cat is an animal.', 'The city of gentofte is big.']\n",
      "Crossencoder\n",
      "['The city of new york is big.', 'A cat is an animal.', 'The city of gentofte is big.', 'The city of copenhagen is big.', 'The city of chicago is big.']\n"
     ]
    }
   ],
   "source": [
    "from data.document import Document\n",
    "\n",
    "query = \"The city of new york might be cool but not as cool as a cat, cats are a pretty cool animal. Animals are not all cats.\"\n",
    "k = 5\n",
    "\n",
    "for model_type in models.keys():\n",
    "    print(model_type)\n",
    "    model: Retriever = models[model_type]\n",
    "    result: list[Document] = model.Lookup(query=query, k=k)\n",
    "    print([d.GetText() for d in result])"
   ]
  }
 ],
 "metadata": {
  "kernelspec": {
   "display_name": "venv",
   "language": "python",
   "name": "python3"
  },
  "language_info": {
   "codemirror_mode": {
    "name": "ipython",
    "version": 3
   },
   "file_extension": ".py",
   "mimetype": "text/x-python",
   "name": "python",
   "nbconvert_exporter": "python",
   "pygments_lexer": "ipython3",
   "version": "3.11.6"
  }
 },
 "nbformat": 4,
 "nbformat_minor": 2
}
