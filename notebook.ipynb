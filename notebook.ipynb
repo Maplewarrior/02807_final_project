{
 "cells": [
  {
   "cell_type": "markdown",
   "metadata": {},
   "source": [
    "### Defining the Dataset"
   ]
  },
  {
   "cell_type": "code",
   "execution_count": 5,
   "metadata": {},
   "outputs": [
    {
     "name": "stdout",
     "output_type": "stream",
     "text": [
      "\n",
      "Loading dataset from data/datasets\\fiqa\n",
      "data/datasets\\fiqa\\corpus.jsonl\n"
     ]
    }
   ],
   "source": [
    "from data.dataloader import Data\n",
    "import configparser\n",
    "# load config.ini \n",
    "config = configparser.ConfigParser()\n",
    "config.read('config.ini')\n",
    "dat = Data(config)\n",
    "corpus, queries = dat.get_dataset('fiqa')"
   ]
  },
  {
   "cell_type": "code",
   "execution_count": 7,
   "metadata": {},
   "outputs": [
    {
     "name": "stdout",
     "output_type": "stream",
     "text": [
      "{'_id': '3', 'title': '', 'text': \"I'm not saying I don't like the idea of on-the-job training too, but you can't expect the company to do that. Training workers is not their job - they're building software. Perhaps educational systems in the U.S. (or their students) should worry a little about getting marketable skills in exchange for their massive investment in education, rather than getting out with thousands in student debt and then complaining that they aren't qualified to do anything.\", 'metadata': {}}\n",
      "{'_id': '0', 'text': 'What is considered a business expense on a business trip?', 'metadata': {}}\n"
     ]
    }
   ],
   "source": [
    "print(corpus[0])\n",
    "print(queries[0])"
   ]
  },
  {
   "cell_type": "code",
   "execution_count": 30,
   "metadata": {},
   "outputs": [],
   "source": [
    "# documents = [\n",
    "#     {\"text\": \"A cat is an animal.\", \"_id\": 1},\n",
    "#     {\"text\": \"A dog is a house animal.\", \"_id\": 1},\n",
    "#     {\"text\": \"The city of new york is big.\", \"_id\": 2},\n",
    "#     {\"text\": \"The city of chicago is big.\", \"_id\": 3},\n",
    "#     {\"text\": \"The city of gentofte is big.\", \"_id\": 4},\n",
    "#     {\"text\": \"The city of copenhagen is big.\", \"_id\": 5},\n",
    "#     {\"text\": \"During the cold war, many comunists were crazy.\", \"_id\": 5},\n",
    "#     {\"text\": \"Are there any better movie than The Godfather?\", \"_id\": 5}\n",
    "#     ]\n",
    "\n",
    "# Just for testing\n",
    "documents = corpus[:100]"
   ]
  },
  {
   "cell_type": "markdown",
   "metadata": {},
   "source": [
    "### Defining the Models"
   ]
  },
  {
   "cell_type": "code",
   "execution_count": 31,
   "metadata": {},
   "outputs": [],
   "source": [
    "from models.builers.retriever import Retriever\n",
    "from models.CURE import CURE\n",
    "from models.k_means import KMeans\n",
    "from models.TFIDF import TFIDF\n",
    "from models.BM25 import BM25\n",
    "from models.DPR import DPR\n",
    "from models.DPR_crossencoder import DPRCrossencoder\n",
    "\n",
    "models: dict[str: Retriever] = {\n",
    "    \"TF-IDF\": TFIDF(documents=documents),\n",
    "    \"BM25\": BM25(documents=documents),\n",
    "    # \"DPR\": DPR(documents=documents),\n",
    "    # \"Crossencoder\": DPRCrossencoder(documents=documents, n=25),\n",
    "    # \"KMeans\": KMeans(documents=documents, k = 4),\n",
    "    # \"CURE\": CURE(documents=documents, k = 2, n=2, shrinkage_fraction=0.2),\n",
    "}\n"
   ]
  },
  {
   "cell_type": "markdown",
   "metadata": {},
   "source": [
    "### Perform Experiment"
   ]
  },
  {
   "cell_type": "code",
   "execution_count": 32,
   "metadata": {},
   "outputs": [
    {
     "name": "stdout",
     "output_type": "stream",
     "text": [
      "Query: What is considered a business expense on a business trip?\n",
      "TF-IDF\n",
      "['\"So you\\'re basically saying that average market fluctuations have an affect on individual stocks, because individual stocks are often priced in relation to the growth of the market as a whole?  Also, what kinds of investments would be considered \"\"risk free\"\" in this nomenclature?\"', '\"As long as the losing business is not considered \"\"passive activity\"\" or \"\"hobby\"\", then yes. Passive Activity is an activity where you do not have to actively do anything to generate income. For example - royalties or rentals. Hobby is an activity that doesn\\'t generate profit. Generally, if your business doesn\\'t consistently generate profit (the IRS looks at 3 out of the last 5 years), it may be characterized as hobby. For hobby, loss deduction is limited by the hobby income and the 2% AGI threshold.\"', \"&gt; monopoly  &gt; names 3 giant companies who compete with each other in almost every industry possible  What happened to /economy :(. It used to be actual business minded people, now it's becoming another socialist echo chamber... Sad to see.\", 'This month when you join Scentsy you get a free defuser with your kit!   This has never been done before.  You also get spring / summer and Fall / Winter testers plus all your kit items!    Be your own boss!  You choose what hours you work, when and where you work them.   Join my Scentsy family today!  [Amanda C. Robar Scentsy Business ](http://www.amandacrobar.scentsy.ca)', \"...is investing in a business you believe in a bad strategy?   I'm not saying you're going to be right with your investment (obviously your judgment is coming into play), but you make it sound like it's a terrible way to do things. Is it?\"]\n",
      "BM25\n",
      "['\"So you\\'re basically saying that average market fluctuations have an affect on individual stocks, because individual stocks are often priced in relation to the growth of the market as a whole?  Also, what kinds of investments would be considered \"\"risk free\"\" in this nomenclature?\"', \"&gt; monopoly  &gt; names 3 giant companies who compete with each other in almost every industry possible  What happened to /economy :(. It used to be actual business minded people, now it's becoming another socialist echo chamber... Sad to see.\", \"...is investing in a business you believe in a bad strategy?   I'm not saying you're going to be right with your investment (obviously your judgment is coming into play), but you make it sound like it's a terrible way to do things. Is it?\", '\"As long as the losing business is not considered \"\"passive activity\"\" or \"\"hobby\"\", then yes. Passive Activity is an activity where you do not have to actively do anything to generate income. For example - royalties or rentals. Hobby is an activity that doesn\\'t generate profit. Generally, if your business doesn\\'t consistently generate profit (the IRS looks at 3 out of the last 5 years), it may be characterized as hobby. For hobby, loss deduction is limited by the hobby income and the 2% AGI threshold.\"', 'This month when you join Scentsy you get a free defuser with your kit!   This has never been done before.  You also get spring / summer and Fall / Winter testers plus all your kit items!    Be your own boss!  You choose what hours you work, when and where you work them.   Join my Scentsy family today!  [Amanda C. Robar Scentsy Business ](http://www.amandacrobar.scentsy.ca)']\n"
     ]
    }
   ],
   "source": [
    "from data.document import Document\n",
    "\n",
    "query = queries[0][\"text\"]\n",
    "print(\"Query:\", query)\n",
    "k = 5\n",
    "\n",
    "for model_type in models.keys():\n",
    "    print(model_type)\n",
    "    model: Retriever = models[model_type]\n",
    "    result: list[Document] = model.Lookup(query=query, k=k)\n",
    "\n",
    "    print([d.GetText() for d in result])"
   ]
  },
  {
   "cell_type": "code",
   "execution_count": 42,
   "metadata": {},
   "outputs": [
    {
     "name": "stdout",
     "output_type": "stream",
     "text": [
      "['A cat is an animal.', 'A dog is a house animal.']\n",
      "['The city of gentofte is big.', 'The city of new york is big.', 'The city of chicago is big.', 'The city of copenhagen is big.', 'Are there any better movie than The Godfather?', 'During the cold war, many comunists were crazy.']\n",
      "CURE\n",
      "['The city of copenhagen is big.', 'The city of chicago is big.', 'The city of new york is big.', 'The city of gentofte is big.', 'Are there any better movie than The Godfather?']\n"
     ]
    }
   ],
   "source": [
    "from data.document import Document\n",
    "\n",
    "query = \"Cities are pretty cool, especially war\"\n",
    "k = 5\n",
    "\n",
    "model: CURE = models[\"CURE\"]\n",
    "for cluster in model.clusters.clusters:\n",
    "    print([doc.GetText() for doc in cluster.GetDocuments()])\n",
    "\n",
    "for model_type in models.keys():\n",
    "    print(model_type)\n",
    "    model: Retriever = models[model_type]\n",
    "    result: list[Document] = model.Lookup(query=query, k=k)\n",
    "    print([d.GetText() for d in result])"
   ]
  }
 ],
 "metadata": {
  "kernelspec": {
   "display_name": "venv",
   "language": "python",
   "name": "python3"
  },
  "language_info": {
   "codemirror_mode": {
    "name": "ipython",
    "version": 3
   },
   "file_extension": ".py",
   "mimetype": "text/x-python",
   "name": "python",
   "nbconvert_exporter": "python",
   "pygments_lexer": "ipython3",
   "version": "3.10.10"
  }
 },
 "nbformat": 4,
 "nbformat_minor": 2
}
