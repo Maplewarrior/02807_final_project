{
 "cells": [
  {
   "cell_type": "code",
   "execution_count": 39,
   "metadata": {},
   "outputs": [],
   "source": [
    "# Adds the current notebook path to the sys.path just in case your venv is in a different location\n",
    "import os\n",
    "import sys\n",
    "\n",
    "# get directy for this notebook .ipynb \n",
    "notebook_dir = os.path.dirname(os.path.abspath('__file__'))\n",
    "# add this to the path from which we will load the data\n",
    "sys.path.insert(0, notebook_dir)"
   ]
  },
  {
   "cell_type": "markdown",
   "metadata": {},
   "source": [
    "### Defining the Dataset"
   ]
  },
  {
   "cell_type": "code",
   "execution_count": 40,
   "metadata": {},
   "outputs": [],
   "source": [
    "documents = [\n",
    "    {\"text\": \"A cat is an animal.\", \"id\": 1},\n",
    "    {\"text\": \"A dog is a house animal.\", \"id\": 1},\n",
    "    {\"text\": \"The city of new york is big.\", \"id\": 2},\n",
    "    {\"text\": \"The city of chicago is big.\", \"id\": 3},\n",
    "    {\"text\": \"The city of gentofte is big.\", \"id\": 4},\n",
    "    {\"text\": \"The city of copenhagen is big.\", \"id\": 5},\n",
    "    {\"text\": \"During the cold war, many comunists were crazy.\", \"id\": 5},\n",
    "    {\"text\": \"Are there any better movie than The Godfather?\", \"id\": 5}\n",
    "    ]"
   ]
  },
  {
   "cell_type": "markdown",
   "metadata": {},
   "source": [
    "### Defining the Models"
   ]
  },
  {
   "cell_type": "code",
   "execution_count": null,
   "metadata": {},
   "outputs": [],
   "source": [
    "from models.builers.retriever import Retriever\n",
    "from models.CURE import CURE\n",
    "from models.k_means import KMeans\n",
    "from models.TFIDF import TFIDF\n",
    "from models.DPR import DPR\n",
    "from models.DPR_crossencoder import DPRCrossencoder\n",
    "\n",
    "models: dict[str: Retriever] = {\n",
    "    # \"TF-IDF\": TFIDF(documents=documents),\n",
    "    # \"DPR\": DPR(documents=documents),\n",
    "    # \"Crossencoder\": DPRCrossencoder(documents=documents, n=25),\n",
    "    # \"KMeans\": KMeans(documents=documents, k = 4),\n",
    "    \"CURE\": CURE(documents=documents, k = 2, n=2, shrinkage_fraction=0.2),\n",
    "}"
   ]
  },
  {
   "cell_type": "markdown",
   "metadata": {},
   "source": [
    "### Perform Experiment"
   ]
  },
  {
   "cell_type": "code",
   "execution_count": null,
   "metadata": {},
   "outputs": [],
   "source": [
    "from data.document import Document\n",
    "\n",
    "query = \"Cities are pretty cool, especially war\"\n",
    "k = 5\n",
    "\n",
    "model: CURE = models[\"CURE\"]\n",
    "for cluster in model.clusters.clusters:\n",
    "    print([doc.GetText() for doc in cluster.GetDocuments()])\n",
    "\n",
    "for model_type in models.keys():\n",
    "    print(model_type)\n",
    "    model: Retriever = models[model_type]\n",
    "    result: list[Document] = model.Lookup(query=query, k=k)\n",
    "    print([d.GetText() for d in result])"
   ]
  }
 ],
 "metadata": {
  "kernelspec": {
   "display_name": "venv",
   "language": "python",
   "name": "python3"
  },
  "language_info": {
   "codemirror_mode": {
    "name": "ipython",
    "version": 3
   },
   "file_extension": ".py",
   "mimetype": "text/x-python",
   "name": "python",
   "nbconvert_exporter": "python",
   "pygments_lexer": "ipython3",
   "version": "3.10.10"
  }
 },
 "nbformat": 4,
 "nbformat_minor": 2
}
